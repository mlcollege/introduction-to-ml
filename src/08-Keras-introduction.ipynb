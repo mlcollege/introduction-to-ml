{
  "nbformat": 4,
  "nbformat_minor": 0,
  "metadata": {
    "kernelspec": {
      "name": "python3",
      "display_name": "Python 3"
    },
    "language_info": {
      "codemirror_mode": {
        "name": "ipython",
        "version": 3
      },
      "file_extension": ".py",
      "mimetype": "text/x-python",
      "name": "python",
      "nbconvert_exporter": "python",
      "pygments_lexer": "ipython3",
      "version": "3.7.3"
    },
    "colab": {
      "name": "08-Keras-introduction.ipynb",
      "provenance": []
    },
    "accelerator": "GPU"
  },
  "cells": [
    {
      "cell_type": "markdown",
      "metadata": {
        "id": "KFj9vKMnYsvu"
      },
      "source": [
        "# Introduction to Keras\n",
        "\n",
        "* high-level neural networks API, written in Python, part of [TensorFlow 2.x](https://www.tensorflow.org/)\n",
        "* Allows easy and fast prototyping\n",
        "* Runs seamlessly on CPU and GPU\n",
        "* open source\n",
        "* Documentation: [https://keras.io/](https://keras.io/)"
      ]
    },
    {
      "cell_type": "markdown",
      "metadata": {
        "id": "-8yJYsUyYsvw"
      },
      "source": [
        "## installation\n",
        "First install the backend, for example [TensorFlow](https://www.tensorflow.org/install/).\n",
        "\n",
        "`$ pip install keras`"
      ]
    },
    {
      "cell_type": "markdown",
      "metadata": {
        "id": "qMWzadigYsvx"
      },
      "source": [
        "## MNIST classification task\n",
        "\n",
        "The MNIST data set is a database of handwritten digits that is commonly used for training various image processing systems. The goal if this task is to implement a classifier of handwritten digits using neural networks."
      ]
    },
    {
      "cell_type": "markdown",
      "metadata": {
        "id": "FCodqoi3Ysvy"
      },
      "source": [
        "![Mnist data set](https://github.com/jirimaterna/image-processing-2days/blob/master/images/mnist-examples.png?raw=1)"
      ]
    },
    {
      "cell_type": "markdown",
      "metadata": {
        "id": "WnbUUb8NYsvy"
      },
      "source": [
        "## Load the data\n",
        "\n",
        "The data is already shuffled and split to train and test parts."
      ]
    },
    {
      "cell_type": "code",
      "metadata": {
        "id": "WjQRPjiyYsvz",
        "colab": {
          "base_uri": "https://localhost:8080/"
        },
        "outputId": "8f9e897b-0773-4f73-fa1e-64a8294fdc12"
      },
      "source": [
        "%tensorflow_version 2.x\n",
        "import pickle\n",
        "from tensorflow.keras.datasets import mnist\n",
        "\n",
        "(X_train, y_train), (X_test, y_test) = mnist.load_data()\n",
        "\n",
        "print(\"X_train original shape: {}\".format(X_train.shape))\n",
        "print(\"y_train original shape: {}\".format(y_train.shape))\n",
        "print(\"X_test original shape: {}\".format(X_test.shape))\n",
        "print(\"y_test original shape: {}\".format(y_test.shape))"
      ],
      "execution_count": 1,
      "outputs": [
        {
          "output_type": "stream",
          "name": "stdout",
          "text": [
            "X_train original shape: (60000, 28, 28)\n",
            "y_train original shape: (60000,)\n",
            "X_test original shape: (10000, 28, 28)\n",
            "y_test original shape: (10000,)\n"
          ]
        }
      ]
    },
    {
      "cell_type": "markdown",
      "metadata": {
        "id": "F_-dMqsGYsv2"
      },
      "source": [
        "Look at one random example."
      ]
    },
    {
      "cell_type": "code",
      "metadata": {
        "id": "t1tAla-zYsv3",
        "colab": {
          "base_uri": "https://localhost:8080/",
          "height": 281
        },
        "outputId": "60ddb599-0564-4287-9485-133896d50177"
      },
      "source": [
        "%matplotlib inline\n",
        "import matplotlib.pyplot as plt\n",
        "i=3495\n",
        "\n",
        "#print(X_train[i])\n",
        "plt.imshow(X_train[i], cmap='gray')\n",
        "plt.title(\"Class {}\".format(y_train[i]))\n",
        "plt.show()"
      ],
      "execution_count": 2,
      "outputs": [
        {
          "output_type": "display_data",
          "data": {
            "image/png": "[encoded data removed]",
            "text/plain": [
              "<Figure size 432x288 with 1 Axes>"
            ]
          },
          "metadata": {
            "needs_background": "light"
          }
        }
      ]
    },
    {
      "cell_type": "markdown",
      "metadata": {
        "id": "5nv520izYsv4"
      },
      "source": [
        "## Transform the data"
      ]
    },
    {
      "cell_type": "markdown",
      "metadata": {
        "id": "IIHRAFdyYsv5"
      },
      "source": [
        "We need to scale the input values to have the range (0,1)."
      ]
    },
    {
      "cell_type": "code",
      "metadata": {
        "id": "4s_pCongYsv6"
      },
      "source": [
        "X_train = X_train.astype('float32')\n",
        "X_test = X_test.astype('float32')\n",
        "X_train /= 255\n",
        "X_test /= 255"
      ],
      "execution_count": 3,
      "outputs": []
    },
    {
      "cell_type": "markdown",
      "metadata": {
        "id": "ni4IGvKIYsv7"
      },
      "source": [
        "Our neural-network is going to take a single vector for each training example, so we need to reshape the input so that each 28x28 image becomes a single 784 dimensional vector."
      ]
    },
    {
      "cell_type": "code",
      "metadata": {
        "id": "9rr7O6ZCYsv8",
        "colab": {
          "base_uri": "https://localhost:8080/"
        },
        "outputId": "347b982d-666e-46bf-bd8a-8f93496bd325"
      },
      "source": [
        "X_train_flat = X_train.reshape(60000, 784)\n",
        "X_test_flat = X_test.reshape(10000, 784)\n",
        "print(\"X_train matrix shape: {}\".format(X_train_flat.shape))\n",
        "print(\"X_test matrix shape: {}\".format(X_test_flat.shape))"
      ],
      "execution_count": 4,
      "outputs": [
        {
          "output_type": "stream",
          "name": "stdout",
          "text": [
            "X_train matrix shape: (60000, 784)\n",
            "X_test matrix shape: (10000, 784)\n"
          ]
        }
      ]
    },
    {
      "cell_type": "markdown",
      "metadata": {
        "id": "1dzQVa-MYsv-"
      },
      "source": [
        "Transform the targets into one-hot encoding, i.e.\n",
        "```\n",
        "0 -> [1, 0, 0, 0, 0, 0, 0, 0, 0]\n",
        "1 -> [0, 1, 0, 0, 0, 0, 0, 0, 0]\n",
        "2 -> [0, 0, 1, 0, 0, 0, 0, 0, 0]\n",
        "```\n",
        "etc."
      ]
    },
    {
      "cell_type": "code",
      "metadata": {
        "id": "J0xWKgl4Ysv-",
        "colab": {
          "base_uri": "https://localhost:8080/"
        },
        "outputId": "b531a4d1-cef9-4cf1-9b16-4ed472730998"
      },
      "source": [
        "from keras.utils import np_utils\n",
        "\n",
        "n_classes = 10\n",
        "\n",
        "print(y_train[49])\n",
        "\n",
        "y_train = np_utils.to_categorical(y_train, n_classes)\n",
        "y_test = np_utils.to_categorical(y_test, n_classes)\n",
        "\n",
        "print(y_train[49])"
      ],
      "execution_count": 5,
      "outputs": [
        {
          "output_type": "stream",
          "name": "stdout",
          "text": [
            "3\n",
            "[0. 0. 0. 1. 0. 0. 0. 0. 0. 0.]\n"
          ]
        }
      ]
    },
    {
      "cell_type": "markdown",
      "metadata": {
        "id": "BzJ92hhWYswB"
      },
      "source": [
        "## Architecture definition\n",
        "\n",
        "Create a sequential model"
      ]
    },
    {
      "cell_type": "code",
      "metadata": {
        "id": "J55nR_tzYswB"
      },
      "source": [
        "from tensorflow.keras.models import Sequential\n",
        "\n",
        "model = Sequential()"
      ],
      "execution_count": 6,
      "outputs": []
    },
    {
      "cell_type": "markdown",
      "metadata": {
        "id": "IWubHwp1YswD"
      },
      "source": [
        "Define its structure."
      ]
    },
    {
      "cell_type": "code",
      "metadata": {
        "id": "pl9wwk_5YswE"
      },
      "source": [
        "from tensorflow.keras.layers import Dense, Activation\n",
        "\n",
        "model.add(Dense(64, input_shape=(784, )))\n",
        "model.add(Activation('relu'))\n",
        "model.add(Dense(10))\n",
        "model.add(Activation('softmax'))"
      ],
      "execution_count": 7,
      "outputs": []
    },
    {
      "cell_type": "markdown",
      "metadata": {
        "id": "Ofum8sViYswF"
      },
      "source": [
        "Compile the model"
      ]
    },
    {
      "cell_type": "code",
      "metadata": {
        "id": "BVsQcrkNYswG"
      },
      "source": [
        "model.compile(loss='categorical_crossentropy',\n",
        "              optimizer='adam',\n",
        "              metrics=['accuracy'])"
      ],
      "execution_count": 8,
      "outputs": []
    },
    {
      "cell_type": "markdown",
      "metadata": {
        "id": "PludkxZgYswL"
      },
      "source": [
        "## Train the model"
      ]
    },
    {
      "cell_type": "code",
      "metadata": {
        "id": "NFcR6qaoYswL",
        "colab": {
          "base_uri": "https://localhost:8080/"
        },
        "outputId": "a2c115db-215b-4de3-df49-4fddd2f9328c"
      },
      "source": [
        "model.fit(X_train_flat, y_train,\n",
        "          batch_size = 128, epochs = 10, verbose=1,\n",
        "          validation_data=(X_test_flat, y_test))"
      ],
      "execution_count": 9,
      "outputs": [
        {
          "output_type": "stream",
          "name": "stdout",
          "text": [
            "Epoch 1/10\n",
            "469/469 [==============================] - 9s 9ms/step - loss: 0.4180 - accuracy: 0.8849 - val_loss: 0.2374 - val_accuracy: 0.9303\n",
            "Epoch 2/10\n",
            "469/469 [==============================] - 4s 8ms/step - loss: 0.2081 - accuracy: 0.9398 - val_loss: 0.1713 - val_accuracy: 0.9499\n",
            "Epoch 3/10\n",
            "469/469 [==============================] - 2s 4ms/step - loss: 0.1598 - accuracy: 0.9536 - val_loss: 0.1427 - val_accuracy: 0.9582\n",
            "Epoch 4/10\n",
            "469/469 [==============================] - 2s 4ms/step - loss: 0.1314 - accuracy: 0.9612 - val_loss: 0.1239 - val_accuracy: 0.9628\n",
            "Epoch 5/10\n",
            "469/469 [==============================] - 2s 4ms/step - loss: 0.1121 - accuracy: 0.9669 - val_loss: 0.1125 - val_accuracy: 0.9655\n",
            "Epoch 6/10\n",
            "469/469 [==============================] - 2s 4ms/step - loss: 0.0973 - accuracy: 0.9715 - val_loss: 0.1114 - val_accuracy: 0.9663\n",
            "Epoch 7/10\n",
            "469/469 [==============================] - 2s 4ms/step - loss: 0.0846 - accuracy: 0.9752 - val_loss: 0.1030 - val_accuracy: 0.9693\n",
            "Epoch 8/10\n",
            "469/469 [==============================] - 2s 4ms/step - loss: 0.0747 - accuracy: 0.9786 - val_loss: 0.0966 - val_accuracy: 0.9713\n",
            "Epoch 9/10\n",
            "469/469 [==============================] - 2s 4ms/step - loss: 0.0668 - accuracy: 0.9809 - val_loss: 0.0960 - val_accuracy: 0.9705\n",
            "Epoch 10/10\n",
            "469/469 [==============================] - 2s 4ms/step - loss: 0.0600 - accuracy: 0.9827 - val_loss: 0.0918 - val_accuracy: 0.9726\n"
          ]
        },
        {
          "output_type": "execute_result",
          "data": {
            "text/plain": [
              "<keras.callbacks.History at 0x7f81d0049f90>"
            ]
          },
          "metadata": {},
          "execution_count": 9
        }
      ]
    },
    {
      "cell_type": "markdown",
      "metadata": {
        "id": "BHImBbKyYswN"
      },
      "source": [
        "## Evaluate the model\n",
        "\n",
        "First we need to convert probability vectors to class indices."
      ]
    },
    {
      "cell_type": "code",
      "metadata": {
        "id": "5_y67B_IYswO",
        "colab": {
          "base_uri": "https://localhost:8080/"
        },
        "outputId": "5a130814-e647-496e-b747-bf282d5224e7"
      },
      "source": [
        "y_pred = model.predict(X_test_flat)\n",
        "\n",
        "print(y_pred.shape)"
      ],
      "execution_count": 10,
      "outputs": [
        {
          "output_type": "stream",
          "name": "stdout",
          "text": [
            "(10000, 10)\n"
          ]
        }
      ]
    },
    {
      "cell_type": "code",
      "metadata": {
        "id": "jP2jxFM9YswQ",
        "colab": {
          "base_uri": "https://localhost:8080/"
        },
        "outputId": "41ff317a-fa65-4ff4-a41d-c75b2d0db303"
      },
      "source": [
        "import numpy as np\n",
        "\n",
        "y_test_class = np.argmax(y_test, axis=1)\n",
        "y_pred_class = np.argmax(y_pred, axis=1)\n",
        "print(y_pred_class.shape)"
      ],
      "execution_count": 11,
      "outputs": [
        {
          "output_type": "stream",
          "name": "stdout",
          "text": [
            "(10000,)\n"
          ]
        }
      ]
    },
    {
      "cell_type": "markdown",
      "metadata": {
        "id": "s4brA_gmYswR"
      },
      "source": [
        "We can use the scikit-learn functions now."
      ]
    },
    {
      "cell_type": "code",
      "metadata": {
        "id": "mehwEBXhYswS",
        "colab": {
          "base_uri": "https://localhost:8080/"
        },
        "outputId": "c3afc0e6-e8f3-40a7-8d99-c391d688c396"
      },
      "source": [
        "from sklearn import metrics\n",
        "from sklearn.metrics import accuracy_score\n",
        "\n",
        "\n",
        "print (\"Test accuracy: {:.4f}\".format(accuracy_score(y_test_class, y_pred_class)))\n",
        "print ()\n",
        "print(metrics.classification_report(y_test_class, y_pred_class, digits=4))"
      ],
      "execution_count": 12,
      "outputs": [
        {
          "output_type": "stream",
          "name": "stdout",
          "text": [
            "Test accuracy: 0.9726\n",
            "\n",
            "              precision    recall  f1-score   support\n",
            "\n",
            "           0     0.9788    0.9878    0.9832       980\n",
            "           1     0.9868    0.9885    0.9877      1135\n",
            "           2     0.9674    0.9767    0.9720      1032\n",
            "           3     0.9600    0.9733    0.9666      1010\n",
            "           4     0.9735    0.9715    0.9725       982\n",
            "           5     0.9696    0.9652    0.9674       892\n",
            "           6     0.9779    0.9708    0.9743       958\n",
            "           7     0.9727    0.9698    0.9713      1028\n",
            "           8     0.9677    0.9548    0.9612       974\n",
            "           9     0.9701    0.9643    0.9672      1009\n",
            "\n",
            "    accuracy                         0.9726     10000\n",
            "   macro avg     0.9724    0.9723    0.9723     10000\n",
            "weighted avg     0.9726    0.9726    0.9726     10000\n",
            "\n"
          ]
        }
      ]
    },
    {
      "cell_type": "code",
      "metadata": {
        "id": "122pHhUsYswU",
        "colab": {
          "base_uri": "https://localhost:8080/"
        },
        "outputId": "c7f44421-3c18-4cf3-eb0f-03c90bfd673b"
      },
      "source": [
        "from sklearn.metrics import confusion_matrix\n",
        "\n",
        "print(confusion_matrix(y_test_class, y_pred_class))"
      ],
      "execution_count": 13,
      "outputs": [
        {
          "output_type": "stream",
          "name": "stdout",
          "text": [
            "[[ 968    0    0    1    2    3    2    2    2    0]\n",
            " [   0 1122    4    0    0    1    3    1    4    0]\n",
            " [   5    2 1008    5    1    0    2    4    5    0]\n",
            " [   1    0    7  983    0    4    0    8    6    1]\n",
            " [   1    0    3    1  954    0    5    2    1   15]\n",
            " [   2    0    0   12    2  861    6    0    5    4]\n",
            " [   5    3    2    1    3   10  930    0    4    0]\n",
            " [   0    4   14    2    2    1    0  997    2    6]\n",
            " [   4    0    4   12    7    5    3    5  930    4]\n",
            " [   3    6    0    7    9    3    0    6    2  973]]\n"
          ]
        }
      ]
    },
    {
      "cell_type": "code",
      "metadata": {
        "id": "Kt2Oc-OJYswW",
        "colab": {
          "base_uri": "https://localhost:8080/"
        },
        "outputId": "9a815434-c32d-41d9-fdd6-a69a9140f88c"
      },
      "source": [
        "y_pred = model.predict(X_train_flat)\n",
        "y_pred_class = np.argmax(y_pred, axis=1)\n",
        "y_train_class = np.argmax(y_train, axis=1)\n",
        "\n",
        "print (\"Train accuracy: {:.4f}\".format(accuracy_score(y_train_class, y_pred_class)))\n",
        "print ()\n",
        "print(metrics.classification_report(y_train_class, y_pred_class, digits=4))"
      ],
      "execution_count": 14,
      "outputs": [
        {
          "output_type": "stream",
          "name": "stdout",
          "text": [
            "Train accuracy: 0.9866\n",
            "\n",
            "              precision    recall  f1-score   support\n",
            "\n",
            "           0     0.9936    0.9932    0.9934      5923\n",
            "           1     0.9923    0.9912    0.9918      6742\n",
            "           2     0.9804    0.9904    0.9854      5958\n",
            "           3     0.9836    0.9791    0.9814      6131\n",
            "           4     0.9877    0.9899    0.9888      5842\n",
            "           5     0.9852    0.9840    0.9846      5421\n",
            "           6     0.9917    0.9927    0.9922      5918\n",
            "           7     0.9860    0.9858    0.9859      6265\n",
            "           8     0.9844    0.9786    0.9815      5851\n",
            "           9     0.9803    0.9802    0.9802      5949\n",
            "\n",
            "    accuracy                         0.9866     60000\n",
            "   macro avg     0.9865    0.9865    0.9865     60000\n",
            "weighted avg     0.9866    0.9866    0.9866     60000\n",
            "\n"
          ]
        }
      ]
    },
    {
      "cell_type": "markdown",
      "metadata": {
        "id": "PoNMFk6PYswY"
      },
      "source": [
        "# Convolutional neural network for MNIST classification"
      ]
    },
    {
      "cell_type": "markdown",
      "metadata": {
        "id": "sKu0TG5yYswY"
      },
      "source": [
        "## Reshape the input data"
      ]
    },
    {
      "cell_type": "code",
      "metadata": {
        "id": "uODAo62UYswZ"
      },
      "source": [
        "X_train3d = X_train.reshape(60000, 28, 28, 1)\n",
        "X_test3d = X_test.reshape(10000, 28, 28, 1)"
      ],
      "execution_count": 15,
      "outputs": []
    },
    {
      "cell_type": "markdown",
      "metadata": {
        "id": "Q9D5zj9AYswb"
      },
      "source": [
        "## Architecture definition\n",
        "\n",
        "Create a sequential model and define its structure."
      ]
    },
    {
      "cell_type": "code",
      "metadata": {
        "id": "Bkgtiwi3Yswc",
        "colab": {
          "base_uri": "https://localhost:8080/"
        },
        "outputId": "6191eb2b-7023-4d95-8dd0-896f3baf71f8"
      },
      "source": [
        "from tensorflow.keras.models import Sequential\n",
        "from tensorflow.keras.layers import Dense, Dropout, Activation, Flatten\n",
        "from tensorflow.keras.layers import Conv2D, MaxPooling2D\n",
        "\n",
        "model = Sequential()\n",
        "\n",
        "model.add(Conv2D(32, kernel_size=(5, 5), input_shape=(28, 28, 1, )))\n",
        "model.add(Activation('relu'))\n",
        "model.add(MaxPooling2D(pool_size=(2, 2)))\n",
        "model.add(Flatten())\n",
        "model.add(Dense(10))\n",
        "model.add(Activation('softmax'))\n",
        "\n",
        "print(model.summary())"
      ],
      "execution_count": 17,
      "outputs": [
        {
          "output_type": "stream",
          "name": "stdout",
          "text": [
            "Model: \"sequential_1\"\n",
            "_________________________________________________________________\n",
            " Layer (type)                Output Shape              Param #   \n",
            "=================================================================\n",
            " conv2d (Conv2D)             (None, 24, 24, 32)        832       \n",
            "                                                                 \n",
            " activation_2 (Activation)   (None, 24, 24, 32)        0         \n",
            "                                                                 \n",
            " max_pooling2d (MaxPooling2D  (None, 12, 12, 32)       0         \n",
            " )                                                               \n",
            "                                                                 \n",
            " flatten (Flatten)           (None, 4608)              0         \n",
            "                                                                 \n",
            " dense_2 (Dense)             (None, 10)                46090     \n",
            "                                                                 \n",
            " activation_3 (Activation)   (None, 10)                0         \n",
            "                                                                 \n",
            "=================================================================\n",
            "Total params: 46,922\n",
            "Trainable params: 46,922\n",
            "Non-trainable params: 0\n",
            "_________________________________________________________________\n",
            "None\n"
          ]
        }
      ]
    },
    {
      "cell_type": "markdown",
      "metadata": {
        "id": "BKgIKDT9Yswf"
      },
      "source": [
        "Compile the model."
      ]
    },
    {
      "cell_type": "code",
      "metadata": {
        "id": "MeKXll35Yswf"
      },
      "source": [
        "model.compile(loss='categorical_crossentropy',\n",
        "              optimizer='adam',\n",
        "              metrics=['accuracy'])"
      ],
      "execution_count": 18,
      "outputs": []
    },
    {
      "cell_type": "markdown",
      "metadata": {
        "id": "beZ8zNtpYswh"
      },
      "source": [
        "## Train the model"
      ]
    },
    {
      "cell_type": "code",
      "metadata": {
        "id": "gJD1uf0iYswh",
        "colab": {
          "base_uri": "https://localhost:8080/"
        },
        "outputId": "0b687a07-c6c0-4757-b4ac-3a4bbc3c49f1"
      },
      "source": [
        "model.fit(X_train3d, y_train,\n",
        "          batch_size = 128, epochs = 10, verbose=1,\n",
        "          validation_data=(X_test3d, y_test))"
      ],
      "execution_count": 19,
      "outputs": [
        {
          "output_type": "stream",
          "name": "stdout",
          "text": [
            "Epoch 1/10\n",
            "469/469 [==============================] - 12s 10ms/step - loss: 0.2960 - accuracy: 0.9177 - val_loss: 0.1045 - val_accuracy: 0.9696\n",
            "Epoch 2/10\n",
            "469/469 [==============================] - 4s 8ms/step - loss: 0.0922 - accuracy: 0.9743 - val_loss: 0.0637 - val_accuracy: 0.9815\n",
            "Epoch 3/10\n",
            "469/469 [==============================] - 3s 7ms/step - loss: 0.0657 - accuracy: 0.9812 - val_loss: 0.0544 - val_accuracy: 0.9832\n",
            "Epoch 4/10\n",
            "469/469 [==============================] - 3s 7ms/step - loss: 0.0531 - accuracy: 0.9847 - val_loss: 0.0455 - val_accuracy: 0.9854\n",
            "Epoch 5/10\n",
            "469/469 [==============================] - 3s 7ms/step - loss: 0.0452 - accuracy: 0.9865 - val_loss: 0.0432 - val_accuracy: 0.9865\n",
            "Epoch 6/10\n",
            "469/469 [==============================] - 3s 7ms/step - loss: 0.0395 - accuracy: 0.9880 - val_loss: 0.0420 - val_accuracy: 0.9863\n",
            "Epoch 7/10\n",
            "469/469 [==============================] - 3s 7ms/step - loss: 0.0348 - accuracy: 0.9892 - val_loss: 0.0437 - val_accuracy: 0.9869\n",
            "Epoch 8/10\n",
            "469/469 [==============================] - 3s 7ms/step - loss: 0.0318 - accuracy: 0.9900 - val_loss: 0.0393 - val_accuracy: 0.9878\n",
            "Epoch 9/10\n",
            "469/469 [==============================] - 3s 7ms/step - loss: 0.0285 - accuracy: 0.9911 - val_loss: 0.0473 - val_accuracy: 0.9849\n",
            "Epoch 10/10\n",
            "469/469 [==============================] - 3s 7ms/step - loss: 0.0258 - accuracy: 0.9919 - val_loss: 0.0419 - val_accuracy: 0.9866\n"
          ]
        },
        {
          "output_type": "execute_result",
          "data": {
            "text/plain": [
              "<keras.callbacks.History at 0x7f815ed94790>"
            ]
          },
          "metadata": {},
          "execution_count": 19
        }
      ]
    },
    {
      "cell_type": "markdown",
      "metadata": {
        "id": "RfXbZrbSYswj"
      },
      "source": [
        "## Evaluate the model"
      ]
    },
    {
      "cell_type": "code",
      "metadata": {
        "id": "qxMB2C2WYswk"
      },
      "source": [
        "y_pred = model.predict(X_test3d)\n",
        "y_test_class = np.argmax(y_test, axis=1)\n",
        "y_pred_class = np.argmax(y_pred, axis=1)"
      ],
      "execution_count": 20,
      "outputs": []
    },
    {
      "cell_type": "code",
      "metadata": {
        "id": "uu-A_4YYYswm",
        "colab": {
          "base_uri": "https://localhost:8080/"
        },
        "outputId": "dba8b0d1-7f18-4b6b-83d4-e8d349819c15"
      },
      "source": [
        "print (\"Test accuracy: {:.4f}\".format(accuracy_score(y_test_class, y_pred_class)))\n",
        "print ()\n",
        "print(metrics.classification_report(y_test_class, y_pred_class, digits=4))"
      ],
      "execution_count": 21,
      "outputs": [
        {
          "output_type": "stream",
          "name": "stdout",
          "text": [
            "Test accuracy: 0.9866\n",
            "\n",
            "              precision    recall  f1-score   support\n",
            "\n",
            "           0     0.9828    0.9918    0.9873       980\n",
            "           1     0.9904    0.9982    0.9943      1135\n",
            "           2     0.9808    0.9893    0.9850      1032\n",
            "           3     0.9881    0.9881    0.9881      1010\n",
            "           4     0.9849    0.9939    0.9894       982\n",
            "           5     0.9768    0.9922    0.9844       892\n",
            "           6     0.9979    0.9739    0.9857       958\n",
            "           7     0.9844    0.9835    0.9839      1028\n",
            "           8     0.9876    0.9795    0.9835       974\n",
            "           9     0.9919    0.9742    0.9830      1009\n",
            "\n",
            "    accuracy                         0.9866     10000\n",
            "   macro avg     0.9866    0.9865    0.9865     10000\n",
            "weighted avg     0.9867    0.9866    0.9866     10000\n",
            "\n"
          ]
        }
      ]
    },
    {
      "cell_type": "code",
      "metadata": {
        "id": "nQqod1gxYswn",
        "colab": {
          "base_uri": "https://localhost:8080/"
        },
        "outputId": "804cb084-635d-4b0c-d44c-c5f5792f8f6c"
      },
      "source": [
        "print(confusion_matrix(y_test_class, y_pred_class))"
      ],
      "execution_count": 22,
      "outputs": [
        {
          "output_type": "stream",
          "name": "stdout",
          "text": [
            "[[ 972    1    2    0    1    1    1    1    1    0]\n",
            " [   0 1133    1    1    0    0    0    0    0    0]\n",
            " [   1    1 1021    1    1    0    0    4    3    0]\n",
            " [   0    0    2  998    0    5    0    1    4    0]\n",
            " [   0    0    1    0  976    0    0    0    0    5]\n",
            " [   2    0    0    4    0  885    1    0    0    0]\n",
            " [   8    3    0    0    4    7  933    0    3    0]\n",
            " [   0    2    8    4    1    0    0 1011    1    1]\n",
            " [   6    0    5    1    1    2    0    3  954    2]\n",
            " [   0    4    1    1    7    6    0    7    0  983]]\n"
          ]
        }
      ]
    },
    {
      "cell_type": "code",
      "metadata": {
        "id": "-OTWOHLIYswp",
        "colab": {
          "base_uri": "https://localhost:8080/"
        },
        "outputId": "c9186bdf-a684-45e0-b025-f2345b6765e6"
      },
      "source": [
        "y_pred = model.predict(X_train3d)\n",
        "y_pred_class = np.argmax(y_pred, axis=1)\n",
        "y_train_class = np.argmax(y_train, axis=1)\n",
        "\n",
        "print (\"Train accuracy: {:.4f}\".format(accuracy_score(y_train_class, y_pred_class)))\n",
        "print ()\n",
        "print(metrics.classification_report(y_train_class, y_pred_class, digits=4))"
      ],
      "execution_count": 23,
      "outputs": [
        {
          "output_type": "stream",
          "name": "stdout",
          "text": [
            "Train accuracy: 0.9944\n",
            "\n",
            "              precision    recall  f1-score   support\n",
            "\n",
            "           0     0.9980    0.9978    0.9979      5923\n",
            "           1     0.9948    0.9985    0.9967      6742\n",
            "           2     0.9921    0.9965    0.9943      5958\n",
            "           3     0.9980    0.9899    0.9939      6131\n",
            "           4     0.9927    0.9962    0.9944      5842\n",
            "           5     0.9888    0.9974    0.9931      5421\n",
            "           6     0.9993    0.9922    0.9958      5918\n",
            "           7     0.9917    0.9955    0.9936      6265\n",
            "           8     0.9923    0.9938    0.9931      5851\n",
            "           9     0.9958    0.9859    0.9908      5949\n",
            "\n",
            "    accuracy                         0.9944     60000\n",
            "   macro avg     0.9944    0.9944    0.9944     60000\n",
            "weighted avg     0.9944    0.9944    0.9944     60000\n",
            "\n"
          ]
        }
      ]
    },
    {
      "cell_type": "markdown",
      "metadata": {
        "id": "LnvA9BySYswq"
      },
      "source": [
        "## Let's look at some incorrectly classified examples"
      ]
    },
    {
      "cell_type": "code",
      "metadata": {
        "id": "X9-bjAf5Yswr",
        "colab": {
          "base_uri": "https://localhost:8080/"
        },
        "outputId": "3377365b-2775-4295-9e24-7efa2cde0424"
      },
      "source": [
        "y_pred = model.predict(X_test3d)\n",
        "y_test_class = np.argmax(y_test, axis=1)\n",
        "y_pred_class = np.argmax(y_pred, axis=1)\n",
        "\n",
        "incorrect_indices = np.nonzero(y_pred_class != y_test_class)[0]\n",
        "print(incorrect_indices)"
      ],
      "execution_count": 24,
      "outputs": [
        {
          "output_type": "stream",
          "name": "stdout",
          "text": [
            "[  18   62  211  259  445  449  582  659  684  844  947  965 1014 1039\n",
            " 1181 1182 1226 1232 1242 1247 1260 1319 1326 1393 1414 1441 1530 1553\n",
            " 1621 1709 1717 1722 1754 1790 1878 1901 1955 1982 2035 2053 2098 2118\n",
            " 2129 2130 2135 2189 2272 2280 2293 2329 2387 2406 2454 2488 2597 2654\n",
            " 2760 2836 2896 2921 2927 2939 2953 2995 3030 3060 3422 3503 3520 3558\n",
            " 3559 3597 3727 3749 3751 3808 3850 3853 3906 4007 4063 4065 4075 4176\n",
            " 4199 4224 4238 4248 4256 4497 4507 4571 4740 4807 4814 4823 4838 4860\n",
            " 4956 4966 5199 5246 5634 5749 5955 5973 6011 6091 6400 6532 6569 6571\n",
            " 6576 6597 6625 6651 8094 8311 8332 8408 8527 9009 9015 9024 9634 9638\n",
            " 9642 9664 9679 9692 9698 9729 9770 9904]\n"
          ]
        }
      ]
    },
    {
      "cell_type": "code",
      "metadata": {
        "id": "JgM3b_j3Yswt",
        "colab": {
          "base_uri": "https://localhost:8080/",
          "height": 281
        },
        "outputId": "a45d4f47-b56d-4b66-faa6-f1e4ccb80e0e"
      },
      "source": [
        "%matplotlib inline\n",
        "import matplotlib.pyplot as plt\n",
        "i = incorrect_indices[3]\n",
        "\n",
        "plt.imshow(X_test[i], cmap='gray')\n",
        "plt.title(\"Predicted: {}, Class: {}\".format(y_pred_class[i], y_test_class[i]))\n",
        "plt.show()"
      ],
      "execution_count": 25,
      "outputs": [
        {
          "output_type": "display_data",
          "data": {
            "image/png": "[encoded data removed]",
            "text/plain": [
              "<Figure size 432x288 with 1 Axes>"
            ]
          },
          "metadata": {
            "needs_background": "light"
          }
        }
      ]
    }
  ]
}