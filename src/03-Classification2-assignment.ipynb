{
  "nbformat": 4,
  "nbformat_minor": 0,
  "metadata": {
    "kernelspec": {
      "display_name": "Python 3",
      "language": "python",
      "name": "python3"
    },
    "language_info": {
      "codemirror_mode": {
        "name": "ipython",
        "version": 3
      },
      "file_extension": ".py",
      "mimetype": "text/x-python",
      "name": "python",
      "nbconvert_exporter": "python",
      "pygments_lexer": "ipython3",
      "version": "3.5.2"
    },
    "colab": {
      "name": "03-Classification2-assignment.ipynb",
      "provenance": []
    }
  },
  "cells": [
    {
      "cell_type": "markdown",
      "metadata": {
        "id": "SEMUlviG4v9L",
        "colab_type": "text"
      },
      "source": [
        "# Classification task - Room occupancy 2\n",
        "\n",
        "Some machine learning methods, namely Support Vector Machines, require standardized features. This means that every numerical feature should have zero mean and unit standard deviation. Implement normalization using standard Scikit-learn tools."
      ]
    },
    {
      "cell_type": "code",
      "metadata": {
        "id": "_fhg4OBL4v9O",
        "colab_type": "code",
        "colab": {}
      },
      "source": [
        "import pandas as pd\n",
        "data = pd.read_csv('https://raw.githubusercontent.com/mlcollege/introduction-to-ml/master/data/occupancy.csv', sep=',')\n",
        "data.head()"
      ],
      "execution_count": 0,
      "outputs": []
    },
    {
      "cell_type": "markdown",
      "metadata": {
        "id": "jr-ot2Uo4v9Y",
        "colab_type": "text"
      },
      "source": [
        "## Standardized classifier\n",
        "Implement a classifier with standardized features."
      ]
    },
    {
      "cell_type": "markdown",
      "metadata": {
        "id": "K9UcR1qy4v9Z",
        "colab_type": "text"
      },
      "source": [
        "### Data preparation"
      ]
    },
    {
      "cell_type": "code",
      "metadata": {
        "id": "w9AFhn124v9d",
        "colab_type": "code",
        "colab": {}
      },
      "source": [
        "from sklearn.model_selection import train_test_split\n",
        "\n",
        "X_all = data[['Temperature', 'Humidity', 'Light', 'CO2', 'HumidityRatio']]\n",
        "y_all = data['Occupancy']\n",
        "\n",
        "X_train, X_test, y_train, y_test = train_test_split(\n",
        "    X_all, \n",
        "    y_all,\n",
        "    random_state=1,\n",
        "    test_size=0.1)\n",
        "\n",
        "print('Train size: {}'.format(len(X_train)))\n",
        "print('Test size: {}'.format(len(X_test)))"
      ],
      "execution_count": 0,
      "outputs": []
    },
    {
      "cell_type": "markdown",
      "metadata": {
        "id": "_nHmTckI4v9h",
        "colab_type": "text"
      },
      "source": [
        "### Training a standardized classifier\n",
        "\n",
        "Implement a [Support Vector Machines](http://scikit-learn.org/stable/modules/generated/sklearn.svm.SVC.html#sklearn.svm.SVC) classifier with feature standardization. You can use the standard Scikit-learn tools:\n",
        "* [sklearn.preprocessing.StandardScaler](http://scikit-learn.org/stable/modules/generated/sklearn.preprocessing.StandardScaler.html#sklearn.preprocessing.StandardScaler)\n",
        "* [sklearn.pipeline.Pipeline](http://scikit-learn.org/stable/modules/generated/sklearn.pipeline.Pipeline.html)\n",
        "\n",
        "Remember that standardization has to be estimated on the train set only and applied to both the train and test sets.\n"
      ]
    },
    {
      "cell_type": "code",
      "metadata": {
        "id": "BOtSu99s4v9k",
        "colab_type": "code",
        "colab": {}
      },
      "source": [
        "#TODO"
      ],
      "execution_count": 0,
      "outputs": []
    },
    {
      "cell_type": "markdown",
      "metadata": {
        "id": "ra24shAm4v9p",
        "colab_type": "text"
      },
      "source": [
        "### Evaluate the model\n",
        "\n",
        "Implement all evaluation methods you have learned in the Scikit-learn tutorial. Analyze the effect of standardization."
      ]
    },
    {
      "cell_type": "code",
      "metadata": {
        "id": "tpczAvmG4v9p",
        "colab_type": "code",
        "colab": {}
      },
      "source": [
        "#TODO"
      ],
      "execution_count": 0,
      "outputs": []
    }
  ]
}