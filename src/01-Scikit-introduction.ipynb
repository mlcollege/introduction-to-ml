{
 "cells": [
  {
   "cell_type": "markdown",
   "metadata": {},
   "source": [
    "# Introduction to scikit-learn\n",
    "* Simple and efficient tools for data mining and data analysis\n",
    "* Accessible to everybody, and reusable in various contexts\n",
    "* Built on NumPy, SciPy, and matplotlib\n",
    "* Open source, commercially usable - BSD license\n",
    "* Documentation: [http://scikit-learn.org/stable/documentation.html](http://scikit-learn.org/stable/documentation.html)"
   ]
  },
  {
   "cell_type": "markdown",
   "metadata": {},
   "source": [
    "## installation\n",
    "`$ pip install scikit-learn`"
   ]
  },
  {
   "cell_type": "markdown",
   "metadata": {},
   "source": [
    "## Loading an example dataset\n",
    "\n",
    "Scikit-learn comes with a few standard datasets, for instance the [iris](https://en.wikipedia.org/wiki/Iris_flower_data_set) dataset for classification."
   ]
  },
  {
   "cell_type": "code",
   "execution_count": 1,
   "metadata": {},
   "outputs": [
    {
     "name": "stdout",
     "output_type": "stream",
     "text": [
      "[[5.1 3.5 1.4 0.2]\n",
      " [4.9 3.  1.4 0.2]\n",
      " [4.7 3.2 1.3 0.2]\n",
      " [4.6 3.1 1.5 0.2]\n",
      " [5.  3.6 1.4 0.2]]\n"
     ]
    }
   ],
   "source": [
    "from sklearn import datasets\n",
    "iris = datasets.load_iris()\n",
    "print(iris.data[:5])"
   ]
  },
  {
   "cell_type": "code",
   "execution_count": 2,
   "metadata": {},
   "outputs": [
    {
     "name": "stdout",
     "output_type": "stream",
     "text": [
      "['sepal length (cm)', 'sepal width (cm)', 'petal length (cm)', 'petal width (cm)']\n"
     ]
    }
   ],
   "source": [
    "print(iris.feature_names)"
   ]
  },
  {
   "cell_type": "markdown",
   "metadata": {},
   "source": [
    "![Sepal vs. Petal](images/sepal-petal.jpg)"
   ]
  },
  {
   "cell_type": "code",
   "execution_count": 3,
   "metadata": {},
   "outputs": [
    {
     "name": "stdout",
     "output_type": "stream",
     "text": [
      "[0 0 0 0 0 0 0 0 0 0 0 0 0 0 0 0 0 0 0 0 0 0 0 0 0 0 0 0 0 0 0 0 0 0 0 0 0\n",
      " 0 0 0 0 0 0 0 0 0 0 0 0 0 1 1 1 1 1 1 1 1 1 1 1 1 1 1 1 1 1 1 1 1 1 1 1 1\n",
      " 1 1 1 1 1 1 1 1 1 1 1 1 1 1 1 1 1 1 1 1 1 1 1 1 1 1 2 2 2 2 2 2 2 2 2 2 2\n",
      " 2 2 2 2 2 2 2 2 2 2 2 2 2 2 2 2 2 2 2 2 2 2 2 2 2 2 2 2 2 2 2 2 2 2 2 2 2\n",
      " 2 2]\n"
     ]
    }
   ],
   "source": [
    "print(iris.target)"
   ]
  },
  {
   "cell_type": "code",
   "execution_count": 4,
   "metadata": {},
   "outputs": [
    {
     "name": "stdout",
     "output_type": "stream",
     "text": [
      "['setosa' 'versicolor' 'virginica']\n"
     ]
    }
   ],
   "source": [
    "print(iris.target_names)"
   ]
  },
  {
   "cell_type": "markdown",
   "metadata": {},
   "source": [
    "## Data preparation\n",
    "In order to be able to measure the performance of an estimator, we need to split the data into train and test data sets. Shuffling is not necessary."
   ]
  },
  {
   "cell_type": "code",
   "execution_count": 5,
   "metadata": {},
   "outputs": [
    {
     "name": "stdout",
     "output_type": "stream",
     "text": [
      "Train size: 135\n",
      "Test size: 15\n"
     ]
    }
   ],
   "source": [
    "from sklearn.model_selection import train_test_split\n",
    "\n",
    "X_train, X_test, y_train, y_test = train_test_split(iris.data, iris.target, test_size=0.1)\n",
    "print('Train size: {}'.format(len(X_train)))\n",
    "print('Test size: {}'.format(len(X_test)))"
   ]
  },
  {
   "cell_type": "markdown",
   "metadata": {},
   "source": [
    "## Learning and predicting\n",
    "In the case of the Iris dataset, the task is to predict, given a feature vector, which species the flower belong to. We are given samples of each of the 3 possible classes on which we fit an estimator to be able to predict the species to which unseen samples belong.\n",
    "\n",
    "An example of an estimator is the class [sklearn.naive_bayes.GaussianNB](http://scikit-learn.org/stable/modules/generated/sklearn.naive_bayes.GaussianNB.html) that implements Gaussian Naive Bayes classification."
   ]
  },
  {
   "cell_type": "code",
   "execution_count": 6,
   "metadata": {},
   "outputs": [
    {
     "name": "stdout",
     "output_type": "stream",
     "text": [
      "['versicolor' 'versicolor' 'virginica' 'setosa' 'setosa' 'versicolor'\n",
      " 'versicolor' 'virginica' 'virginica' 'virginica' 'setosa' 'versicolor'\n",
      " 'versicolor' 'virginica' 'setosa']\n"
     ]
    }
   ],
   "source": [
    "from sklearn.naive_bayes import GaussianNB\n",
    "clf = GaussianNB()\n",
    "clf.fit(X_train, y_train)\n",
    "print(iris.target_names[clf.predict(X_test)])"
   ]
  },
  {
   "cell_type": "code",
   "execution_count": 7,
   "metadata": {},
   "outputs": [
    {
     "name": "stdout",
     "output_type": "stream",
     "text": [
      "[[2.10327125e-104 9.97956152e-001 2.04384785e-003]\n",
      " [4.89284485e-122 6.65276140e-001 3.34723860e-001]\n",
      " [6.64904033e-204 5.64634667e-006 9.99994354e-001]\n",
      " [1.00000000e+000 2.69648707e-016 2.88961524e-024]\n",
      " [1.00000000e+000 4.94073981e-014 6.35869996e-022]\n",
      " [6.64743415e-134 9.77070303e-001 2.29296968e-002]\n",
      " [3.07005964e-105 9.88991271e-001 1.10087292e-002]\n",
      " [3.31548796e-230 1.20026596e-008 9.99999988e-001]\n",
      " [1.88835705e-208 1.30794883e-005 9.99986921e-001]\n",
      " [6.06988240e-182 1.91629745e-003 9.98083703e-001]\n",
      " [1.00000000e+000 2.69560231e-012 6.14765385e-020]\n",
      " [2.07516486e-067 9.99969689e-001 3.03112776e-005]\n",
      " [1.98877627e-063 9.99993778e-001 6.22244391e-006]\n",
      " [1.08261325e-303 7.93966963e-012 1.00000000e+000]\n",
      " [1.00000000e+000 3.76154586e-017 3.50701398e-025]]\n"
     ]
    }
   ],
   "source": [
    "print(clf.predict_proba(X_test))"
   ]
  },
  {
   "cell_type": "markdown",
   "metadata": {},
   "source": [
    "## Model persistence\n",
    "It is possible to save a model in Scikit-learn by using Python’s built-in persistence model, namely [pickle](https://docs.python.org/2/library/pickle.html):"
   ]
  },
  {
   "cell_type": "code",
   "execution_count": 8,
   "metadata": {},
   "outputs": [
    {
     "name": "stdout",
     "output_type": "stream",
     "text": [
      "['versicolor' 'versicolor' 'virginica' 'setosa' 'setosa' 'versicolor'\n",
      " 'versicolor' 'virginica' 'virginica' 'virginica' 'setosa' 'versicolor'\n",
      " 'versicolor' 'virginica' 'setosa']\n"
     ]
    }
   ],
   "source": [
    "import pickle\n",
    "\n",
    "with open('/tmp/model.pkl', 'wb') as f:\n",
    "    pickle.dump(clf, f)\n",
    "    \n",
    "with open('/tmp/model.pkl', 'rb') as f:\n",
    "    clf2 = pickle.load(f)\n",
    "    print(iris.target_names[clf2.predict(X_test)])"
   ]
  },
  {
   "cell_type": "markdown",
   "metadata": {},
   "source": [
    "## Model evaluation\n",
    "Scikit-learn provides implementation of all methods you need."
   ]
  },
  {
   "cell_type": "code",
   "execution_count": 9,
   "metadata": {},
   "outputs": [
    {
     "name": "stdout",
     "output_type": "stream",
     "text": [
      "Test accuracy: 0.93\n",
      "\n",
      "             precision    recall  f1-score   support\n",
      "\n",
      "     setosa       1.00      1.00      1.00         4\n",
      " versicolor       0.83      1.00      0.91         5\n",
      "  virginica       1.00      0.83      0.91         6\n",
      "\n",
      "avg / total       0.94      0.93      0.93        15\n",
      "\n"
     ]
    }
   ],
   "source": [
    "from sklearn import metrics\n",
    "from sklearn.metrics import accuracy_score\n",
    "\n",
    "y_pred = clf.predict(X_test)\n",
    "\n",
    "print (\"Test accuracy: {:.2f}\".format(accuracy_score(y_test, y_pred)))\n",
    "print ()\n",
    "print(metrics.classification_report(y_test, y_pred, target_names=iris.target_names))"
   ]
  },
  {
   "cell_type": "code",
   "execution_count": 10,
   "metadata": {},
   "outputs": [
    {
     "name": "stdout",
     "output_type": "stream",
     "text": [
      "Train accuracy: 0.96\n",
      "\n",
      "             precision    recall  f1-score   support\n",
      "\n",
      "     setosa       1.00      1.00      1.00        46\n",
      " versicolor       0.93      0.93      0.93        45\n",
      "  virginica       0.93      0.93      0.93        44\n",
      "\n",
      "avg / total       0.96      0.96      0.96       135\n",
      "\n"
     ]
    }
   ],
   "source": [
    "y_pred = clf.predict(X_train)\n",
    "\n",
    "print (\"Train accuracy: {:.2f}\".format(accuracy_score(y_train, y_pred)))\n",
    "print ()\n",
    "print(metrics.classification_report(y_train, y_pred, target_names=iris.target_names))"
   ]
  },
  {
   "cell_type": "code",
   "execution_count": 11,
   "metadata": {},
   "outputs": [
    {
     "name": "stdout",
     "output_type": "stream",
     "text": [
      "[[4 0 0]\n",
      " [0 5 0]\n",
      " [0 1 5]]\n"
     ]
    }
   ],
   "source": [
    "from sklearn.metrics import confusion_matrix\n",
    "\n",
    "y_pred = clf.predict(X_test)\n",
    "print(confusion_matrix(y_test, y_pred))"
   ]
  },
  {
   "cell_type": "code",
   "execution_count": 12,
   "metadata": {},
   "outputs": [
    {
     "name": "stdout",
     "output_type": "stream",
     "text": [
      "Cross-validated accuracy: 0.95 with standard deviation 0.04\n"
     ]
    }
   ],
   "source": [
    "from sklearn.model_selection import cross_val_score\n",
    "\n",
    "folds = 10\n",
    "acccuracies = cross_val_score(clf, iris.data, iris.target, cv=folds, scoring='accuracy')\n",
    "print('Cross-validated accuracy: {:.2f} with standard deviation {:.2f}'.format(acccuracies.mean(), acccuracies.std()))"
   ]
  },
  {
   "cell_type": "code",
   "execution_count": 13,
   "metadata": {},
   "outputs": [
    {
     "data": {
      "image/png": "[encoded data removed]",
      "text/plain": [
       "<Figure size 1080x432 with 1 Axes>"
      ]
     },
     "metadata": {},
     "output_type": "display_data"
    }
   ],
   "source": [
    "%matplotlib inline\n",
    "import numpy as np\n",
    "import matplotlib.pyplot as plt\n",
    "from sklearn.model_selection import learning_curve, ShuffleSplit\n",
    "\n",
    "cv = ShuffleSplit(n_splits=20, test_size=0.1, random_state=0)\n",
    "\n",
    "train_sizes, train_scores, test_scores = learning_curve(\n",
    "    clf,\n",
    "    iris.data, iris.target,\n",
    "    train_sizes=range(5,99,5),\n",
    "    n_jobs=-1,\n",
    "    cv=cv,\n",
    ")\n",
    "\n",
    "plt.figure(figsize=(15,6))\n",
    "\n",
    "train_scores_mean = np.mean(train_scores, axis=1)\n",
    "test_scores_mean = np.mean(test_scores, axis=1)\n",
    "\n",
    "#train_scores_std = np.std(train_scores, axis=1)\n",
    "#test_scores_std = np.std(test_scores, axis=1)\n",
    "\n",
    "#plt.fill_between(train_sizes, train_scores_mean - train_scores_std,\n",
    "#                     train_scores_mean + train_scores_std, alpha=0.1,\n",
    "#                     color=\"r\")\n",
    "#plt.fill_between(train_sizes, test_scores_mean - test_scores_std,\n",
    "#                     test_scores_mean + test_scores_std, alpha=0.1, color=\"g\")\n",
    "\n",
    "plt.plot(train_sizes, train_scores_mean, 'o-', color=\"r\",\n",
    "             label=\"Train accuracy\")\n",
    "plt.plot(train_sizes, test_scores_mean, 'o-', color=\"g\",\n",
    "             label=\"Test accuracy\")\n",
    "\n",
    "plt.xlabel(\"Training examples\")\n",
    "\n",
    "plt.ylabel(\"Accuracy\")\n",
    "\n",
    "plt.grid()\n",
    "\n",
    "plt.legend(loc=\"lower right\")\n",
    "\n",
    "plt.show()"
   ]
  }
 ],
 "metadata": {
  "kernelspec": {
   "display_name": "Python 3",
   "language": "python",
   "name": "python3"
  },
  "language_info": {
   "codemirror_mode": {
    "name": "ipython",
    "version": 3
   },
   "file_extension": ".py",
   "mimetype": "text/x-python",
   "name": "python",
   "nbconvert_exporter": "python",
   "pygments_lexer": "ipython3",
   "version": "3.5.2"
  }
 },
 "nbformat": 4,
 "nbformat_minor": 2
}
