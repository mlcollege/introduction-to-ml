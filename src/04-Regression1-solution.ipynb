{
  "nbformat": 4,
  "nbformat_minor": 0,
  "metadata": {
    "kernelspec": {
      "display_name": "Python 3",
      "language": "python",
      "name": "python3"
    },
    "language_info": {
      "codemirror_mode": {
        "name": "ipython",
        "version": 3
      },
      "file_extension": ".py",
      "mimetype": "text/x-python",
      "name": "python",
      "nbconvert_exporter": "python",
      "pygments_lexer": "ipython3",
      "version": "3.5.2"
    },
    "colab": {
      "name": "04-Regression1-solution.ipynb",
      "provenance": []
    }
  },
  "cells": [
    {
      "cell_type": "markdown",
      "metadata": {
        "id": "kLEikVgw7kh7",
        "colab_type": "text"
      },
      "source": [
        "# Regression task - Bike sharing 1\n",
        "\n",
        "Bike sharing systems are new generation of traditional bike rentals where whole process from membership, rental and return has become automatic. Through these systems, a user is able to easily rent a bike from a particular position and return it at another place.\n",
        "\n",
        "The dataset contains the hourly count of rental bikes between years 2011 and 2012 in the Capital Bikeshare system (Washington DC) with the corresponding weather and seasonal information.\n",
        "\n",
        "The goal of this task is to train a regressor to predict total counts of bike rentals based on the provided features for a given hour. \n",
        "\n",
        "## Data source\n",
        "[http://archive.ics.uci.edu/ml/datasets/Bike+Sharing+Dataset](http://archive.ics.uci.edu/ml/datasets/Bike+Sharing+Dataset)\n",
        "\n",
        "## Feature description\n",
        "* **dteday** - date time stamot\n",
        "* **season** - season (1: spring, 2: summer, 3: fall, 4: winter)\n",
        "* **yr** - year (0: 2011, 1: 2012)\n",
        "* **mnth** - month (1 to 12)\n",
        "* **hr** - hour (0 to 23)\n",
        "* **holiday** - 1 if the day is a holiday, else 0 (extracted from [holiday schedules](https://dchr.dc.gov/page/holiday-schedules))\n",
        "* **weekday** - day of the week (0 to 6)\n",
        "* **workingday** - is 1 if day is neither weekend nor holiday, else 0.\n",
        "* **weathersit** \n",
        "    * 1: Clear, Few clouds, Partly cloudy, Partly cloudy\n",
        "    * 2: Mist + Cloudy, Mist + Broken clouds, Mist + Few clouds, Mist\n",
        "    * 3: Light Snow, Light Rain + Thunderstorm + Scattered clouds, Light Rain + Scattered clouds\n",
        "    * 4: Heavy Rain + Ice Pallets + Thunderstorm + Mist, Snow + Fog\n",
        "* **temp** - Normalized temperature in degrees of Celsius.\n",
        "* **atemp** - Normalized feeling temperature in degrees Celsius.\n",
        "* **hum** - Normalized relative humidity.\n",
        "* **windspeed** - Normalized wind speed.\n",
        "* **casual** - Count of casual users.\n",
        "* **registered** - Count of registered users.\n",
        "* **cnt** -  Count of total rental bikes including both casual and registered. This is the target value. "
      ]
    },
    {
      "cell_type": "code",
      "metadata": {
        "id": "Ed8zUOzW7kiG",
        "colab_type": "code",
        "colab": {}
      },
      "source": [
        "import pandas as pd\n",
        "data = pd.read_csv('https://raw.githubusercontent.com/mlcollege/introduction-to-ml/master/data/bikes.csv', sep=',')\n",
        "data.head()"
      ],
      "execution_count": 0,
      "outputs": []
    },
    {
      "cell_type": "markdown",
      "metadata": {
        "id": "qkGI5_Ll7kiR",
        "colab_type": "text"
      },
      "source": [
        "## Simple regressor\n",
        "\n",
        "Implement a simple regressor based on all reasonable features from the input data set. Notice that some of the features from the input data cannot be used."
      ]
    },
    {
      "cell_type": "markdown",
      "metadata": {
        "id": "MJ74XKQO7kii",
        "colab_type": "text"
      },
      "source": [
        "### Data preparation\n",
        "\n",
        "Prepare train and test data sets."
      ]
    },
    {
      "cell_type": "code",
      "metadata": {
        "id": "7XTRicjP7kij",
        "colab_type": "code",
        "colab": {}
      },
      "source": [
        "from sklearn.model_selection import train_test_split\n",
        "\n",
        "X_all = data[['season', 'yr', 'mnth', 'hr', 'holiday', 'weekday', 'workingday', 'weathersit','temp', 'atemp', 'hum', 'windspeed']]\n",
        "y_all = data['cnt']\n",
        "\n",
        "\n",
        "X_train, X_test, y_train, y_test = train_test_split(\n",
        "    X_all, \n",
        "    y_all,\n",
        "    random_state=1,\n",
        "    test_size=0.2)\n",
        "\n",
        "print('Train size: {}'.format(len(X_train)))\n",
        "print('Test size: {}'.format(len(X_test)))"
      ],
      "execution_count": 0,
      "outputs": []
    },
    {
      "cell_type": "markdown",
      "metadata": {
        "id": "5rKDyU8j7kim",
        "colab_type": "text"
      },
      "source": [
        "### Training a regressor\n",
        "\n",
        "Train a regressor using the following models:\n",
        "* [LinearRegression](http://scikit-learn.org/stable/modules/generated/sklearn.linear_model.LinearRegression.html)\n",
        "* [Support Vector Machines for regression](http://scikit-learn.org/stable/modules/generated/sklearn.svm.SVR.html) (experiment with different kernels)\n",
        "* [Gradient Boosted Trees](http://scikit-learn.org/stable/modules/generated/sklearn.ensemble.GradientBoostingRegressor.html) (Experiment with different depths and number of trees)"
      ]
    },
    {
      "cell_type": "code",
      "metadata": {
        "id": "84ZbhiXt7kim",
        "colab_type": "code",
        "colab": {}
      },
      "source": [
        "from sklearn import svm\n",
        "from sklearn.preprocessing import StandardScaler\n",
        "from sklearn.ensemble import GradientBoostingRegressor\n",
        "from sklearn.linear_model import LinearRegression\n",
        "from sklearn.pipeline import Pipeline\n",
        "\n",
        "\n",
        "regr = Pipeline([('std', StandardScaler()),\n",
        "                 ('linear', LinearRegression())\n",
        "                 #('svr', svm.SVR(kernel='rbf'))\n",
        "                 #('gbr', GradientBoostingRegressor(n_estimators=100, max_depth=4))\n",
        "                ])\n",
        "\n",
        "regr.fit(X_train, y_train)"
      ],
      "execution_count": 0,
      "outputs": []
    },
    {
      "cell_type": "markdown",
      "metadata": {
        "id": "zjyQjXCg7kir",
        "colab_type": "text"
      },
      "source": [
        "### Evaluate the models\n",
        "\n",
        "Measure mean squared error and mean absolute error evaluation metrics on both train and test data sets. Compute the mean and standard deviation of the target values. Decide which model performs best on the given problem."
      ]
    },
    {
      "cell_type": "code",
      "metadata": {
        "id": "AshO91Be7kis",
        "colab_type": "code",
        "colab": {}
      },
      "source": [
        "from sklearn.metrics import mean_squared_error, mean_absolute_error\n",
        "import numpy as np\n",
        "\n",
        "y_pred = regr.predict(X_test)\n",
        "print (\"Test mean: {}, std: {}\".format(np.mean(y_test), np.std(y_test)))\n",
        "print(\"Test Root mean squared error: {:.2f}\".format(np.sqrt(mean_squared_error(y_test, y_pred))))\n",
        "print(\"Test Mean absolute error: {:.2f}\".format(mean_absolute_error(y_test, y_pred)))"
      ],
      "execution_count": 0,
      "outputs": []
    },
    {
      "cell_type": "code",
      "metadata": {
        "id": "b8jFlMo87kix",
        "colab_type": "code",
        "colab": {}
      },
      "source": [
        "y_pred = regr.predict(X_train)\n",
        "print(\"Train Root mean squared error: %.2f\"\n",
        "      % np.sqrt(mean_squared_error(y_train, y_pred)))\n",
        "print(\"Train Mean absolute error: %.2f\"\n",
        "      % mean_absolute_error(y_train, y_pred))"
      ],
      "execution_count": 0,
      "outputs": []
    },
    {
      "cell_type": "markdown",
      "metadata": {
        "id": "dbIUEyTB7kiz",
        "colab_type": "text"
      },
      "source": [
        "### Feature importance\n",
        "\n",
        "Print coefficients of the linear regression model and decide which features are the most important.\n"
      ]
    },
    {
      "cell_type": "code",
      "metadata": {
        "id": "a8qW1xTZ7ki0",
        "colab_type": "code",
        "colab": {}
      },
      "source": [
        "print('Coefficients: \\n', regr['linear'].coef_)"
      ],
      "execution_count": 0,
      "outputs": []
    }
  ]
}