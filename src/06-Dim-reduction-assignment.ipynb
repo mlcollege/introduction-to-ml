{
  "nbformat": 4,
  "nbformat_minor": 0,
  "metadata": {
    "kernelspec": {
      "display_name": "Python 3",
      "language": "python",
      "name": "python3"
    },
    "language_info": {
      "codemirror_mode": {
        "name": "ipython",
        "version": 3
      },
      "file_extension": ".py",
      "mimetype": "text/x-python",
      "name": "python",
      "nbconvert_exporter": "python",
      "pygments_lexer": "ipython3",
      "version": "3.5.2"
    },
    "colab": {
      "name": "06-Dim-reduction-assignment.ipynb",
      "provenance": []
    }
  },
  "cells": [
    {
      "cell_type": "markdown",
      "metadata": {
        "id": "sD8wKkZdf2hj",
        "colab_type": "text"
      },
      "source": [
        "# Dimensionality reduction task\n",
        "\n",
        "The goal of this task is it to reduce the number of dimensions of the [Iris data set](https://en.wikipedia.org/wiki/Iris_flower_data_set) and to visualize it in a 2D vector space."
      ]
    },
    {
      "cell_type": "markdown",
      "metadata": {
        "id": "FWUQoX2yf2hl",
        "colab_type": "text"
      },
      "source": [
        "## Loading the Iris dataset"
      ]
    },
    {
      "cell_type": "code",
      "metadata": {
        "id": "8wIzUvtSf2hm",
        "colab_type": "code",
        "colab": {},
        "outputId": "cb4a3c87-623c-4f88-9e18-df4a8fc0758c"
      },
      "source": [
        "from sklearn import datasets\n",
        "\n",
        "iris = datasets.load_iris()\n",
        "X = iris.data\n",
        "y = iris.target\n",
        "\n",
        "print(X[:5])"
      ],
      "execution_count": 0,
      "outputs": [
        {
          "output_type": "stream",
          "text": [
            "[[5.1 3.5 1.4 0.2]\n",
            " [4.9 3.  1.4 0.2]\n",
            " [4.7 3.2 1.3 0.2]\n",
            " [4.6 3.1 1.5 0.2]\n",
            " [5.  3.6 1.4 0.2]]\n"
          ],
          "name": "stdout"
        }
      ]
    },
    {
      "cell_type": "markdown",
      "metadata": {
        "id": "E8ilJq3mf2hq",
        "colab_type": "text"
      },
      "source": [
        "## Reducing the dimension\n",
        "\n",
        "Reduce the dimension using the following models:\n",
        "* [Principal Component Analysis](http://scikit-learn.org/stable/modules/generated/sklearn.decomposition.PCA.html)\n",
        "* [t-SNE](http://scikit-learn.org/stable/modules/generated/sklearn.manifold.TSNE.html)\n",
        "* [UMAP](https://github.com/lmcinnes/umap)"
      ]
    },
    {
      "cell_type": "code",
      "metadata": {
        "id": "MVl7N6CPf2hr",
        "colab_type": "code",
        "colab": {}
      },
      "source": [
        "from sklearn.decomposition import PCA\n",
        "from sklearn.manifold import TSNE\n",
        "from umap import UMAP\n",
        "\n",
        "#TODO"
      ],
      "execution_count": 0,
      "outputs": []
    },
    {
      "cell_type": "markdown",
      "metadata": {
        "id": "te2ctcb9f2ht",
        "colab_type": "text"
      },
      "source": [
        "## Visualization\n",
        "\n",
        "Visualize the data in the reduced vector space and analyze the result. Use the [scatter plot](https://matplotlib.org/devdocs/api/_as_gen/matplotlib.pyplot.scatter.html). Which method performs better on the Iris data set?"
      ]
    },
    {
      "cell_type": "code",
      "metadata": {
        "id": "GbdkEbEBf2hu",
        "colab_type": "code",
        "colab": {}
      },
      "source": [
        "%matplotlib inline\n",
        "import matplotlib.pyplot as plt\n",
        "\n",
        "#TODO\n"
      ],
      "execution_count": 0,
      "outputs": []
    }
  ]
}