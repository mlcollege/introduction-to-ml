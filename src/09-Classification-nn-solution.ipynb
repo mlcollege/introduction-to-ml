{
  "nbformat": 4,
  "nbformat_minor": 0,
  "metadata": {
    "kernelspec": {
      "display_name": "Python 3",
      "language": "python",
      "name": "python3"
    },
    "language_info": {
      "codemirror_mode": {
        "name": "ipython",
        "version": 3
      },
      "file_extension": ".py",
      "mimetype": "text/x-python",
      "name": "python",
      "nbconvert_exporter": "python",
      "pygments_lexer": "ipython3",
      "version": "3.7.3"
    },
    "colab": {
      "name": "09-Classification-nn-solution.ipynb",
      "provenance": []
    }
  },
  "cells": [
    {
      "cell_type": "markdown",
      "metadata": {
        "id": "O5-wAX7OYrU6",
        "colab_type": "text"
      },
      "source": [
        "# Neural Network Classification task - Room occupancy\n",
        "\n",
        "The goal of this taks is to predict a room occupancy based on Temperature, Humidity, Light and CO2 measurements using neural networks in Keras. Ground-truth occupancy was obtained from time stamped pictures that were taken every minute.\n",
        "\n",
        "## Data source\n",
        "[http://archive.ics.uci.edu/ml/datasets/Occupancy+Detection+](http://archive.ics.uci.edu/ml/datasets/Occupancy+Detection+)\n",
        "\n",
        "## Feature description\n",
        "* **Date** - time stamp in the followign format: year-month-day hour:minute:second \n",
        "* **Temperature** - temperature in degrees of Celsius \n",
        "* **Relative Humidity** - Relative humidity in % \n",
        "* **Light** - light intensity in Lux \n",
        "* **CO2** - amount of CO2 in the air, measured in ppm \n",
        "* **Humidity Ratio** - Humidity ratio derived from temperature and relative humidity, in kgwater-vapor/kg-air \n",
        "* **Occupancy** - a target binary value, 0 for not occupied, 1 for occupied status"
      ]
    },
    {
      "cell_type": "code",
      "metadata": {
        "id": "p-1phT_8YrU8",
        "colab_type": "code",
        "colab": {}
      },
      "source": [
        "import pandas as pd\n",
        "data = pd.read_csv('https://raw.githubusercontent.com/mlcollege/introduction-to-ml/master/data/occupancy.csv', sep=',')\n",
        "data.head()"
      ],
      "execution_count": 0,
      "outputs": []
    },
    {
      "cell_type": "markdown",
      "metadata": {
        "id": "qNy1chIOYrVC",
        "colab_type": "text"
      },
      "source": [
        "## Neural Network Classifier\n",
        "Implement a neural network classifier based on all numerical features."
      ]
    },
    {
      "cell_type": "markdown",
      "metadata": {
        "id": "3Bh-3XBJYrVC",
        "colab_type": "text"
      },
      "source": [
        "### Data preparation"
      ]
    },
    {
      "cell_type": "code",
      "metadata": {
        "id": "HCmsuU7wYrVD",
        "colab_type": "code",
        "colab": {}
      },
      "source": [
        "from sklearn.model_selection import train_test_split\n",
        "\n",
        "X_all = data[['Temperature', 'Humidity', 'Light', 'CO2', 'HumidityRatio']]\n",
        "y_all = data['Occupancy']\n",
        "\n",
        "X_train, X_test, y_train, y_test = train_test_split(\n",
        "    X_all, \n",
        "    y_all,\n",
        "    random_state=1,\n",
        "    test_size=0.1)\n",
        "\n",
        "print('Train size: {}'.format(len(X_train)))\n",
        "print('Test size: {}'.format(len(X_test)))"
      ],
      "execution_count": 0,
      "outputs": []
    },
    {
      "cell_type": "markdown",
      "metadata": {
        "id": "I6wMVqIEYrVG",
        "colab_type": "text"
      },
      "source": [
        "Standardize the features"
      ]
    },
    {
      "cell_type": "code",
      "metadata": {
        "id": "GJanygG0YrVH",
        "colab_type": "code",
        "colab": {}
      },
      "source": [
        "from sklearn.preprocessing import StandardScaler\n",
        "\n",
        "scaler = StandardScaler()\n",
        "scaler.fit(X_train)\n",
        "X_train = scaler.transform(X_train)\n",
        "X_test = scaler.transform(X_test)"
      ],
      "execution_count": 0,
      "outputs": []
    },
    {
      "cell_type": "markdown",
      "metadata": {
        "id": "R2-j5rh9YrVM",
        "colab_type": "text"
      },
      "source": [
        "Since the target values are binary, we don't need to encode them in one-hot representation."
      ]
    },
    {
      "cell_type": "code",
      "metadata": {
        "id": "weI67qhoYrVM",
        "colab_type": "code",
        "colab": {}
      },
      "source": [
        "print(y_test[:5])"
      ],
      "execution_count": 0,
      "outputs": []
    },
    {
      "cell_type": "markdown",
      "metadata": {
        "id": "bqFNYmhgYrVO",
        "colab_type": "text"
      },
      "source": [
        "### Training a classifier\n",
        "\n",
        "Design and train a classification model. Use the [binary crossentropy](https://keras.io/losses/) loss function and Sigmoid output function. Experiment with various architectures and [optimizers](https://keras.io/optimizers/)."
      ]
    },
    {
      "cell_type": "code",
      "metadata": {
        "id": "xFPMcAk_YrVP",
        "colab_type": "code",
        "colab": {}
      },
      "source": [
        "%tensorflow_version 2.x\n",
        "from tensorflow.python.keras.models import Sequential\n",
        "from tensorflow.python.keras.layers import Dense, Activation, Dropout\n",
        "\n",
        "model = Sequential()\n",
        "\n",
        "model.add(Dense(10, input_shape=(5, )))\n",
        "model.add(Activation('tanh'))\n",
        "model.add(Dense(1))\n",
        "model.add(Activation('sigmoid'))"
      ],
      "execution_count": 0,
      "outputs": []
    },
    {
      "cell_type": "markdown",
      "metadata": {
        "id": "f21tqD5oYrVR",
        "colab_type": "text"
      },
      "source": [
        "Compile the model"
      ]
    },
    {
      "cell_type": "code",
      "metadata": {
        "id": "qL40_l1sYrVR",
        "colab_type": "code",
        "colab": {}
      },
      "source": [
        "model.compile(loss='binary_crossentropy',\n",
        "              optimizer='adam',\n",
        "              metrics=['accuracy'])"
      ],
      "execution_count": 0,
      "outputs": []
    },
    {
      "cell_type": "markdown",
      "metadata": {
        "id": "_sDhvbn8YrVT",
        "colab_type": "text"
      },
      "source": [
        "Train the model"
      ]
    },
    {
      "cell_type": "code",
      "metadata": {
        "id": "j79xyH3eYrVU",
        "colab_type": "code",
        "colab": {}
      },
      "source": [
        "model.fit(X_train, y_train,\n",
        "          batch_size = 128, epochs = 10, verbose=1,\n",
        "          validation_data=(X_test, y_test))"
      ],
      "execution_count": 0,
      "outputs": []
    },
    {
      "cell_type": "markdown",
      "metadata": {
        "id": "R6FrpTiIYrVY",
        "colab_type": "text"
      },
      "source": [
        "### Evaluate the model"
      ]
    },
    {
      "cell_type": "markdown",
      "metadata": {
        "id": "gysM_1NbYrVZ",
        "colab_type": "text"
      },
      "source": [
        "Predict target values and convert probabilities to binary values."
      ]
    },
    {
      "cell_type": "code",
      "metadata": {
        "id": "r_6GSZS3YrVa",
        "colab_type": "code",
        "colab": {}
      },
      "source": [
        "from numpy import int32\n",
        "y_pred = model.predict(X_test)\n",
        "y_pred = (y_pred >= 0.5).astype(int32)"
      ],
      "execution_count": 0,
      "outputs": []
    },
    {
      "cell_type": "markdown",
      "metadata": {
        "id": "PyHuXHBoYrVc",
        "colab_type": "text"
      },
      "source": [
        "Print evaluation metrics"
      ]
    },
    {
      "cell_type": "code",
      "metadata": {
        "id": "HEqWnIKTYrVd",
        "colab_type": "code",
        "colab": {}
      },
      "source": [
        "from sklearn import metrics\n",
        "from sklearn.metrics import accuracy_score\n",
        "\n",
        "print (\"Test accuracy: {:.4f}\".format(accuracy_score(y_test, y_pred)))\n",
        "print ()\n",
        "print(metrics.classification_report(y_test, y_pred, digits=4))"
      ],
      "execution_count": 0,
      "outputs": []
    },
    {
      "cell_type": "code",
      "metadata": {
        "id": "iOm3ee2CYrVu",
        "colab_type": "code",
        "colab": {}
      },
      "source": [
        "y_pred = model.predict(X_train)\n",
        "y_pred = (y_pred >= 0.5).astype(int32)\n",
        "\n",
        "print (\"Train accuracy: {:.4f}\".format(accuracy_score(y_train, y_pred)))\n",
        "print ()\n",
        "print(metrics.classification_report(y_train, y_pred, digits=4))"
      ],
      "execution_count": 0,
      "outputs": []
    }
  ]
}