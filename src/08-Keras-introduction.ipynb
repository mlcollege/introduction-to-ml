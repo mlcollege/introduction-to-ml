{
  "nbformat": 4,
  "nbformat_minor": 0,
  "metadata": {
    "kernelspec": {
      "name": "python3",
      "display_name": "Python 3"
    },
    "language_info": {
      "codemirror_mode": {
        "name": "ipython",
        "version": 3
      },
      "file_extension": ".py",
      "mimetype": "text/x-python",
      "name": "python",
      "nbconvert_exporter": "python",
      "pygments_lexer": "ipython3",
      "version": "3.7.3"
    },
    "colab": {
      "name": "07-Keras-introduction.ipynb",
      "provenance": []
    },
    "accelerator": "GPU"
  },
  "cells": [
    {
      "cell_type": "markdown",
      "metadata": {
        "id": "KFj9vKMnYsvu",
        "colab_type": "text"
      },
      "source": [
        "# Introduction to Keras\n",
        "\n",
        "* high-level neural networks API, written in Python and capable of running on top of [TensorFlow](https://github.com/tensorflow/tensorflow), [CNTK](https://github.com/Microsoft/cntk), or [Theano](https://github.com/Theano/Theano)\n",
        "* Allows easy and fast prototyping\n",
        "* Runs seamlessly on CPU and GPU\n",
        "* open source\n",
        "* Documentation: [https://keras.io/](https://keras.io/)"
      ]
    },
    {
      "cell_type": "markdown",
      "metadata": {
        "id": "-8yJYsUyYsvw",
        "colab_type": "text"
      },
      "source": [
        "## installation\n",
        "First install the backend, for example [TensorFlow](https://www.tensorflow.org/install/).\n",
        "\n",
        "`$ pip install keras`"
      ]
    },
    {
      "cell_type": "markdown",
      "metadata": {
        "id": "qMWzadigYsvx",
        "colab_type": "text"
      },
      "source": [
        "## MNIST classification task\n",
        "\n",
        "The MNIST data set is a database of handwritten digits that is commonly used for training various image processing systems. The goal if this task is to implement a classifier of handwritten digits using neural networks."
      ]
    },
    {
      "cell_type": "markdown",
      "metadata": {
        "id": "FCodqoi3Ysvy",
        "colab_type": "text"
      },
      "source": [
        "![Mnist data set](https://github.com/jirimaterna/image-processing-2days/blob/master/images/mnist-examples.png?raw=1)"
      ]
    },
    {
      "cell_type": "markdown",
      "metadata": {
        "id": "WnbUUb8NYsvy",
        "colab_type": "text"
      },
      "source": [
        "## Load the data\n",
        "\n",
        "The data is already shuffled and split to train and test parts."
      ]
    },
    {
      "cell_type": "code",
      "metadata": {
        "id": "WjQRPjiyYsvz",
        "colab_type": "code",
        "colab": {
          "base_uri": "https://localhost:8080/",
          "height": 182
        },
        "outputId": "e3a5de5e-6f88-4fbb-be90-f154214434e6"
      },
      "source": [
        "import pickle\n",
        "from keras.datasets import mnist\n",
        "\n",
        "(X_train, y_train), (X_test, y_test) = mnist.load_data()\n",
        "\n",
        "print(\"X_train original shape: {}\".format(X_train.shape))\n",
        "print(\"y_train original shape: {}\".format(y_train.shape))\n",
        "print(\"X_test original shape: {}\".format(X_test.shape))\n",
        "print(\"y_test original shape: {}\".format(y_test.shape))"
      ],
      "execution_count": 1,
      "outputs": [
        {
          "output_type": "stream",
          "text": [
            "Using TensorFlow backend.\n"
          ],
          "name": "stderr"
        },
        {
          "output_type": "display_data",
          "data": {
            "text/html": [
              "<p style=\"color: red;\">\n",
              "The default version of TensorFlow in Colab will soon switch to TensorFlow 2.x.<br>\n",
              "We recommend you <a href=\"https://www.tensorflow.org/guide/migrate\" target=\"_blank\">upgrade</a> now \n",
              "or ensure your notebook will continue to use TensorFlow 1.x via the <code>%tensorflow_version 1.x</code> magic:\n",
              "<a href=\"https://colab.research.google.com/notebooks/tensorflow_version.ipynb\" target=\"_blank\">more info</a>.</p>\n"
            ],
            "text/plain": [
              "<IPython.core.display.HTML object>"
            ]
          },
          "metadata": {
            "tags": []
          }
        },
        {
          "output_type": "stream",
          "text": [
            "Downloading data from https://s3.amazonaws.com/img-datasets/mnist.npz\n",
            "11493376/11490434 [==============================] - 0s 0us/step\n",
            "X_train original shape: (60000, 28, 28)\n",
            "y_train original shape: (60000,)\n",
            "X_test original shape: (10000, 28, 28)\n",
            "y_test original shape: (10000,)\n"
          ],
          "name": "stdout"
        }
      ]
    },
    {
      "cell_type": "markdown",
      "metadata": {
        "id": "F_-dMqsGYsv2",
        "colab_type": "text"
      },
      "source": [
        "Look at one random example."
      ]
    },
    {
      "cell_type": "code",
      "metadata": {
        "id": "t1tAla-zYsv3",
        "colab_type": "code",
        "colab": {
          "base_uri": "https://localhost:8080/",
          "height": 281
        },
        "outputId": "45f03396-4fbe-48b6-c74c-5a47fc8b5823"
      },
      "source": [
        "%matplotlib inline\n",
        "import matplotlib.pyplot as plt\n",
        "i=3495\n",
        "\n",
        "#print(X_train[i])\n",
        "plt.imshow(X_train[i], cmap='gray')\n",
        "plt.title(\"Class {}\".format(y_train[i]))\n",
        "plt.show()"
      ],
      "execution_count": 2,
      "outputs": [
        {
          "output_type": "display_data",
          "data": {
            "image/png": "[encoded data removed]",
            "text/plain": [
              "<Figure size 432x288 with 1 Axes>"
            ]
          },
          "metadata": {
            "tags": []
          }
        }
      ]
    },
    {
      "cell_type": "markdown",
      "metadata": {
        "id": "5nv520izYsv4",
        "colab_type": "text"
      },
      "source": [
        "## Transform the data"
      ]
    },
    {
      "cell_type": "markdown",
      "metadata": {
        "id": "IIHRAFdyYsv5",
        "colab_type": "text"
      },
      "source": [
        "We need to scale the input values to have the range (0,1)."
      ]
    },
    {
      "cell_type": "code",
      "metadata": {
        "id": "4s_pCongYsv6",
        "colab_type": "code",
        "colab": {}
      },
      "source": [
        "X_train = X_train.astype('float32')\n",
        "X_test = X_test.astype('float32')\n",
        "X_train /= 255\n",
        "X_test /= 255"
      ],
      "execution_count": 0,
      "outputs": []
    },
    {
      "cell_type": "markdown",
      "metadata": {
        "id": "ni4IGvKIYsv7",
        "colab_type": "text"
      },
      "source": [
        "Our neural-network is going to take a single vector for each training example, so we need to reshape the input so that each 28x28 image becomes a single 784 dimensional vector."
      ]
    },
    {
      "cell_type": "code",
      "metadata": {
        "id": "9rr7O6ZCYsv8",
        "colab_type": "code",
        "colab": {
          "base_uri": "https://localhost:8080/",
          "height": 51
        },
        "outputId": "5e8e8895-1411-4195-d25f-1f0f47fc021d"
      },
      "source": [
        "X_train_flat = X_train.reshape(60000, 784)\n",
        "X_test_flat = X_test.reshape(10000, 784)\n",
        "print(\"X_train matrix shape: {}\".format(X_train_flat.shape))\n",
        "print(\"X_test matrix shape: {}\".format(X_test_flat.shape))"
      ],
      "execution_count": 4,
      "outputs": [
        {
          "output_type": "stream",
          "text": [
            "X_train matrix shape: (60000, 784)\n",
            "X_test matrix shape: (10000, 784)\n"
          ],
          "name": "stdout"
        }
      ]
    },
    {
      "cell_type": "markdown",
      "metadata": {
        "id": "1dzQVa-MYsv-",
        "colab_type": "text"
      },
      "source": [
        "Transform the targets into one-hot encoding, i.e.\n",
        "```\n",
        "0 -> [1, 0, 0, 0, 0, 0, 0, 0, 0]\n",
        "1 -> [0, 1, 0, 0, 0, 0, 0, 0, 0]\n",
        "2 -> [0, 0, 1, 0, 0, 0, 0, 0, 0]\n",
        "```\n",
        "etc."
      ]
    },
    {
      "cell_type": "code",
      "metadata": {
        "id": "J0xWKgl4Ysv-",
        "colab_type": "code",
        "colab": {
          "base_uri": "https://localhost:8080/",
          "height": 51
        },
        "outputId": "a3d323b3-499c-4b01-a290-ec70365d426b"
      },
      "source": [
        "from keras.utils import np_utils\n",
        "\n",
        "n_classes = 10\n",
        "\n",
        "print(y_train[49])\n",
        "\n",
        "y_train = np_utils.to_categorical(y_train, n_classes)\n",
        "y_test = np_utils.to_categorical(y_test, n_classes)\n",
        "\n",
        "print(y_train[49])"
      ],
      "execution_count": 5,
      "outputs": [
        {
          "output_type": "stream",
          "text": [
            "3\n",
            "[0. 0. 0. 1. 0. 0. 0. 0. 0. 0.]\n"
          ],
          "name": "stdout"
        }
      ]
    },
    {
      "cell_type": "markdown",
      "metadata": {
        "id": "P9hKrdmNYswA",
        "colab_type": "text"
      },
      "source": [
        "## Architecture of one-layer classifier for MNIST\n",
        "\n",
        "![Mnist data set](https://github.com/jirimaterna/image-processing-2days/blob/master/images/one-layer-nn.png?raw=1)"
      ]
    },
    {
      "cell_type": "markdown",
      "metadata": {
        "id": "BzJ92hhWYswB",
        "colab_type": "text"
      },
      "source": [
        "## Architecture definition\n",
        "\n",
        "Create a sequential model"
      ]
    },
    {
      "cell_type": "code",
      "metadata": {
        "id": "J55nR_tzYswB",
        "colab_type": "code",
        "colab": {
          "base_uri": "https://localhost:8080/",
          "height": 71
        },
        "outputId": "5bc52bfd-7db7-467d-c693-2faa025b9e20"
      },
      "source": [
        "from keras.models import Sequential\n",
        "\n",
        "model = Sequential()"
      ],
      "execution_count": 6,
      "outputs": [
        {
          "output_type": "stream",
          "text": [
            "WARNING:tensorflow:From /usr/local/lib/python3.6/dist-packages/keras/backend/tensorflow_backend.py:66: The name tf.get_default_graph is deprecated. Please use tf.compat.v1.get_default_graph instead.\n",
            "\n"
          ],
          "name": "stdout"
        }
      ]
    },
    {
      "cell_type": "markdown",
      "metadata": {
        "id": "IWubHwp1YswD",
        "colab_type": "text"
      },
      "source": [
        "Define its structure."
      ]
    },
    {
      "cell_type": "code",
      "metadata": {
        "id": "pl9wwk_5YswE",
        "colab_type": "code",
        "colab": {
          "base_uri": "https://localhost:8080/",
          "height": 105
        },
        "outputId": "2e753372-ec30-4fbf-eb88-c0ed04e3dd95"
      },
      "source": [
        "from keras.layers import Dense, Activation\n",
        "\n",
        "model.add(Dense(64, input_shape=(784, )))\n",
        "model.add(Activation('relu'))\n",
        "model.add(Dense(64))\n",
        "model.add(Activation('relu'))\n",
        "model.add(Dense(10))\n",
        "model.add(Activation('softmax'))"
      ],
      "execution_count": 7,
      "outputs": [
        {
          "output_type": "stream",
          "text": [
            "WARNING:tensorflow:From /usr/local/lib/python3.6/dist-packages/keras/backend/tensorflow_backend.py:541: The name tf.placeholder is deprecated. Please use tf.compat.v1.placeholder instead.\n",
            "\n",
            "WARNING:tensorflow:From /usr/local/lib/python3.6/dist-packages/keras/backend/tensorflow_backend.py:4432: The name tf.random_uniform is deprecated. Please use tf.random.uniform instead.\n",
            "\n"
          ],
          "name": "stdout"
        }
      ]
    },
    {
      "cell_type": "markdown",
      "metadata": {
        "id": "Ofum8sViYswF",
        "colab_type": "text"
      },
      "source": [
        "Compile the model"
      ]
    },
    {
      "cell_type": "code",
      "metadata": {
        "id": "BVsQcrkNYswG",
        "colab_type": "code",
        "colab": {
          "base_uri": "https://localhost:8080/",
          "height": 105
        },
        "outputId": "5224f5b6-0c7b-46ea-9bfd-5d1de5c5e311"
      },
      "source": [
        "model.compile(loss='categorical_crossentropy',\n",
        "              optimizer='adam',\n",
        "              metrics=['accuracy'])"
      ],
      "execution_count": 8,
      "outputs": [
        {
          "output_type": "stream",
          "text": [
            "WARNING:tensorflow:From /usr/local/lib/python3.6/dist-packages/keras/optimizers.py:793: The name tf.train.Optimizer is deprecated. Please use tf.compat.v1.train.Optimizer instead.\n",
            "\n",
            "WARNING:tensorflow:From /usr/local/lib/python3.6/dist-packages/keras/backend/tensorflow_backend.py:3576: The name tf.log is deprecated. Please use tf.math.log instead.\n",
            "\n"
          ],
          "name": "stdout"
        }
      ]
    },
    {
      "cell_type": "markdown",
      "metadata": {
        "id": "PludkxZgYswL",
        "colab_type": "text"
      },
      "source": [
        "## Train the model"
      ]
    },
    {
      "cell_type": "code",
      "metadata": {
        "id": "NFcR6qaoYswL",
        "colab_type": "code",
        "colab": {
          "base_uri": "https://localhost:8080/",
          "height": 564
        },
        "outputId": "29e67616-76ae-42ab-bdef-d0f59635e69c"
      },
      "source": [
        "model.fit(X_train_flat, y_train,\n",
        "          batch_size = 128, epochs = 5, verbose=1,\n",
        "          validation_data=(X_test_flat, y_test))"
      ],
      "execution_count": 9,
      "outputs": [
        {
          "output_type": "stream",
          "text": [
            "WARNING:tensorflow:From /usr/local/lib/python3.6/dist-packages/tensorflow_core/python/ops/math_grad.py:1424: where (from tensorflow.python.ops.array_ops) is deprecated and will be removed in a future version.\n",
            "Instructions for updating:\n",
            "Use tf.where in 2.0, which has the same broadcast rule as np.where\n",
            "WARNING:tensorflow:From /usr/local/lib/python3.6/dist-packages/keras/backend/tensorflow_backend.py:1033: The name tf.assign_add is deprecated. Please use tf.compat.v1.assign_add instead.\n",
            "\n",
            "WARNING:tensorflow:From /usr/local/lib/python3.6/dist-packages/keras/backend/tensorflow_backend.py:1020: The name tf.assign is deprecated. Please use tf.compat.v1.assign instead.\n",
            "\n",
            "WARNING:tensorflow:From /usr/local/lib/python3.6/dist-packages/keras/backend/tensorflow_backend.py:3005: The name tf.Session is deprecated. Please use tf.compat.v1.Session instead.\n",
            "\n",
            "Train on 60000 samples, validate on 10000 samples\n",
            "Epoch 1/5\n",
            "WARNING:tensorflow:From /usr/local/lib/python3.6/dist-packages/keras/backend/tensorflow_backend.py:190: The name tf.get_default_session is deprecated. Please use tf.compat.v1.get_default_session instead.\n",
            "\n",
            "WARNING:tensorflow:From /usr/local/lib/python3.6/dist-packages/keras/backend/tensorflow_backend.py:197: The name tf.ConfigProto is deprecated. Please use tf.compat.v1.ConfigProto instead.\n",
            "\n",
            "WARNING:tensorflow:From /usr/local/lib/python3.6/dist-packages/keras/backend/tensorflow_backend.py:207: The name tf.global_variables is deprecated. Please use tf.compat.v1.global_variables instead.\n",
            "\n",
            "WARNING:tensorflow:From /usr/local/lib/python3.6/dist-packages/keras/backend/tensorflow_backend.py:216: The name tf.is_variable_initialized is deprecated. Please use tf.compat.v1.is_variable_initialized instead.\n",
            "\n",
            "WARNING:tensorflow:From /usr/local/lib/python3.6/dist-packages/keras/backend/tensorflow_backend.py:223: The name tf.variables_initializer is deprecated. Please use tf.compat.v1.variables_initializer instead.\n",
            "\n",
            "60000/60000 [==============================] - 8s 130us/step - loss: 0.4021 - acc: 0.8870 - val_loss: 0.2005 - val_acc: 0.9406\n",
            "Epoch 2/5\n",
            "60000/60000 [==============================] - 3s 46us/step - loss: 0.1724 - acc: 0.9490 - val_loss: 0.1425 - val_acc: 0.9567\n",
            "Epoch 3/5\n",
            "60000/60000 [==============================] - 3s 48us/step - loss: 0.1264 - acc: 0.9624 - val_loss: 0.1287 - val_acc: 0.9608\n",
            "Epoch 4/5\n",
            "60000/60000 [==============================] - 3s 48us/step - loss: 0.1001 - acc: 0.9707 - val_loss: 0.1015 - val_acc: 0.9705\n",
            "Epoch 5/5\n",
            "60000/60000 [==============================] - 3s 46us/step - loss: 0.0842 - acc: 0.9743 - val_loss: 0.0988 - val_acc: 0.9706\n"
          ],
          "name": "stdout"
        },
        {
          "output_type": "execute_result",
          "data": {
            "text/plain": [
              "<keras.callbacks.History at 0x7ff08c329898>"
            ]
          },
          "metadata": {
            "tags": []
          },
          "execution_count": 9
        }
      ]
    },
    {
      "cell_type": "markdown",
      "metadata": {
        "id": "BHImBbKyYswN",
        "colab_type": "text"
      },
      "source": [
        "## Evaluate the model\n",
        "\n",
        "First we need to convert probability vectors to class indices."
      ]
    },
    {
      "cell_type": "code",
      "metadata": {
        "id": "5_y67B_IYswO",
        "colab_type": "code",
        "colab": {
          "base_uri": "https://localhost:8080/",
          "height": 34
        },
        "outputId": "74b674b0-5d6d-4025-9256-a3884cfbff0d"
      },
      "source": [
        "y_pred = model.predict(X_test_flat)\n",
        "\n",
        "print(y_pred.shape)"
      ],
      "execution_count": 10,
      "outputs": [
        {
          "output_type": "stream",
          "text": [
            "(10000, 10)\n"
          ],
          "name": "stdout"
        }
      ]
    },
    {
      "cell_type": "code",
      "metadata": {
        "id": "jP2jxFM9YswQ",
        "colab_type": "code",
        "colab": {
          "base_uri": "https://localhost:8080/",
          "height": 34
        },
        "outputId": "99ff4291-fc95-4d71-ee0f-545f22a00ee7"
      },
      "source": [
        "import numpy as np\n",
        "\n",
        "y_test_class = np.argmax(y_test, axis=1)\n",
        "y_pred_class = np.argmax(y_pred, axis=1)\n",
        "print(y_pred_class.shape)"
      ],
      "execution_count": 11,
      "outputs": [
        {
          "output_type": "stream",
          "text": [
            "(10000,)\n"
          ],
          "name": "stdout"
        }
      ]
    },
    {
      "cell_type": "markdown",
      "metadata": {
        "id": "s4brA_gmYswR",
        "colab_type": "text"
      },
      "source": [
        "We can use the scikit-learn functions now."
      ]
    },
    {
      "cell_type": "code",
      "metadata": {
        "id": "mehwEBXhYswS",
        "colab_type": "code",
        "colab": {
          "base_uri": "https://localhost:8080/",
          "height": 340
        },
        "outputId": "08f694a4-dbdb-4158-ad9b-8583d330e1db"
      },
      "source": [
        "from sklearn import metrics\n",
        "from sklearn.metrics import accuracy_score\n",
        "\n",
        "\n",
        "print (\"Test accuracy: {:.4f}\".format(accuracy_score(y_test_class, y_pred_class)))\n",
        "print ()\n",
        "print(metrics.classification_report(y_test_class, y_pred_class, digits=4))"
      ],
      "execution_count": 12,
      "outputs": [
        {
          "output_type": "stream",
          "text": [
            "Test accuracy: 0.9706\n",
            "\n",
            "              precision    recall  f1-score   support\n",
            "\n",
            "           0     0.9691    0.9908    0.9798       980\n",
            "           1     0.9766    0.9921    0.9843      1135\n",
            "           2     0.9466    0.9787    0.9624      1032\n",
            "           3     0.9664    0.9693    0.9679      1010\n",
            "           4     0.9744    0.9674    0.9709       982\n",
            "           5     0.9816    0.9552    0.9682       892\n",
            "           6     0.9831    0.9697    0.9764       958\n",
            "           7     0.9714    0.9582    0.9647      1028\n",
            "           8     0.9613    0.9692    0.9652       974\n",
            "           9     0.9786    0.9514    0.9648      1009\n",
            "\n",
            "    accuracy                         0.9706     10000\n",
            "   macro avg     0.9709    0.9702    0.9705     10000\n",
            "weighted avg     0.9708    0.9706    0.9706     10000\n",
            "\n"
          ],
          "name": "stdout"
        }
      ]
    },
    {
      "cell_type": "code",
      "metadata": {
        "id": "122pHhUsYswU",
        "colab_type": "code",
        "colab": {
          "base_uri": "https://localhost:8080/",
          "height": 187
        },
        "outputId": "f0e4dbd1-26df-43e2-abb8-e1d083fd7d24"
      },
      "source": [
        "from sklearn.metrics import confusion_matrix\n",
        "\n",
        "print(confusion_matrix(y_test_class, y_pred_class))"
      ],
      "execution_count": 13,
      "outputs": [
        {
          "output_type": "stream",
          "text": [
            "[[ 971    0    1    1    1    1    1    2    2    0]\n",
            " [   0 1126    4    0    0    1    2    0    2    0]\n",
            " [   5    4 1010    0    1    0    0    6    6    0]\n",
            " [   1    0   17  979    0    3    0    7    3    0]\n",
            " [   5    0    6    0  950    0    6    2    2   11]\n",
            " [   4    2    0   17    0  852    5    1    9    2]\n",
            " [   4    3    2    1    7    6  929    0    6    0]\n",
            " [   3    8   20    2    0    0    0  985    3    7]\n",
            " [   4    2    6    6    3    1    2    5  944    1]\n",
            " [   5    8    1    7   13    4    0    6    5  960]]\n"
          ],
          "name": "stdout"
        }
      ]
    },
    {
      "cell_type": "code",
      "metadata": {
        "id": "Kt2Oc-OJYswW",
        "colab_type": "code",
        "colab": {
          "base_uri": "https://localhost:8080/",
          "height": 340
        },
        "outputId": "6060a401-16ce-476a-826c-6397f26826d2"
      },
      "source": [
        "y_pred = model.predict(X_train_flat)\n",
        "y_pred_class = np.argmax(y_pred, axis=1)\n",
        "y_train_class = np.argmax(y_train, axis=1)\n",
        "\n",
        "print (\"Train accuracy: {:.4f}\".format(accuracy_score(y_train_class, y_pred_class)))\n",
        "print ()\n",
        "print(metrics.classification_report(y_train_class, y_pred_class, digits=4))"
      ],
      "execution_count": 14,
      "outputs": [
        {
          "output_type": "stream",
          "text": [
            "Train accuracy: 0.9788\n",
            "\n",
            "              precision    recall  f1-score   support\n",
            "\n",
            "           0     0.9834    0.9917    0.9876      5923\n",
            "           1     0.9773    0.9942    0.9857      6742\n",
            "           2     0.9585    0.9891    0.9736      5958\n",
            "           3     0.9814    0.9648    0.9730      6131\n",
            "           4     0.9857    0.9779    0.9818      5842\n",
            "           5     0.9879    0.9679    0.9778      5421\n",
            "           6     0.9923    0.9838    0.9880      5918\n",
            "           7     0.9858    0.9743    0.9800      6265\n",
            "           8     0.9615    0.9776    0.9695      5851\n",
            "           9     0.9765    0.9649    0.9707      5949\n",
            "\n",
            "    accuracy                         0.9788     60000\n",
            "   macro avg     0.9790    0.9786    0.9788     60000\n",
            "weighted avg     0.9790    0.9788    0.9789     60000\n",
            "\n"
          ],
          "name": "stdout"
        }
      ]
    },
    {
      "cell_type": "markdown",
      "metadata": {
        "id": "PoNMFk6PYswY",
        "colab_type": "text"
      },
      "source": [
        "# Convolutional neural network for MNIST classification"
      ]
    },
    {
      "cell_type": "markdown",
      "metadata": {
        "id": "sKu0TG5yYswY",
        "colab_type": "text"
      },
      "source": [
        "## Reshape the input data"
      ]
    },
    {
      "cell_type": "code",
      "metadata": {
        "id": "uODAo62UYswZ",
        "colab_type": "code",
        "colab": {}
      },
      "source": [
        "X_train3d = X_train.reshape(60000, 28, 28, 1)\n",
        "X_test3d = X_test.reshape(10000, 28, 28, 1)"
      ],
      "execution_count": 0,
      "outputs": []
    },
    {
      "cell_type": "markdown",
      "metadata": {
        "id": "Q9D5zj9AYswb",
        "colab_type": "text"
      },
      "source": [
        "## Architecture definition\n",
        "\n",
        "Create a sequential model and define its structure."
      ]
    },
    {
      "cell_type": "code",
      "metadata": {
        "id": "Bkgtiwi3Yswc",
        "colab_type": "code",
        "colab": {
          "base_uri": "https://localhost:8080/",
          "height": 615
        },
        "outputId": "232fd7ba-4b4f-4e8c-a549-36c07f7fe25c"
      },
      "source": [
        "from keras.models import Sequential\n",
        "from keras.layers.core import Dense, Dropout, Activation, Flatten\n",
        "from keras.layers.convolutional import Conv2D, MaxPooling2D\n",
        "\n",
        "model = Sequential()\n",
        "\n",
        "model.add(Conv2D(16, kernel_size=(5, 5), input_shape=(28, 28, 1)))\n",
        "model.add(Activation('relu'))\n",
        "model.add(MaxPooling2D(pool_size=(2, 2)))\n",
        "model.add(Dense(32))\n",
        "model.add(Flatten())\n",
        "model.add(Activation('relu'))\n",
        "model.add(Dropout(0.5))\n",
        "model.add(Dense(10))\n",
        "model.add(Activation('softmax'))\n",
        "\n",
        "print(model.summary())"
      ],
      "execution_count": 16,
      "outputs": [
        {
          "output_type": "stream",
          "text": [
            "WARNING:tensorflow:From /usr/local/lib/python3.6/dist-packages/keras/backend/tensorflow_backend.py:4267: The name tf.nn.max_pool is deprecated. Please use tf.nn.max_pool2d instead.\n",
            "\n",
            "WARNING:tensorflow:From /usr/local/lib/python3.6/dist-packages/keras/backend/tensorflow_backend.py:148: The name tf.placeholder_with_default is deprecated. Please use tf.compat.v1.placeholder_with_default instead.\n",
            "\n",
            "WARNING:tensorflow:From /usr/local/lib/python3.6/dist-packages/keras/backend/tensorflow_backend.py:3733: calling dropout (from tensorflow.python.ops.nn_ops) with keep_prob is deprecated and will be removed in a future version.\n",
            "Instructions for updating:\n",
            "Please use `rate` instead of `keep_prob`. Rate should be set to `rate = 1 - keep_prob`.\n",
            "Model: \"sequential_2\"\n",
            "_________________________________________________________________\n",
            "Layer (type)                 Output Shape              Param #   \n",
            "=================================================================\n",
            "conv2d_1 (Conv2D)            (None, 24, 24, 16)        416       \n",
            "_________________________________________________________________\n",
            "activation_4 (Activation)    (None, 24, 24, 16)        0         \n",
            "_________________________________________________________________\n",
            "max_pooling2d_1 (MaxPooling2 (None, 12, 12, 16)        0         \n",
            "_________________________________________________________________\n",
            "dense_4 (Dense)              (None, 12, 12, 32)        544       \n",
            "_________________________________________________________________\n",
            "flatten_1 (Flatten)          (None, 4608)              0         \n",
            "_________________________________________________________________\n",
            "activation_5 (Activation)    (None, 4608)              0         \n",
            "_________________________________________________________________\n",
            "dropout_1 (Dropout)          (None, 4608)              0         \n",
            "_________________________________________________________________\n",
            "dense_5 (Dense)              (None, 10)                46090     \n",
            "_________________________________________________________________\n",
            "activation_6 (Activation)    (None, 10)                0         \n",
            "=================================================================\n",
            "Total params: 47,050\n",
            "Trainable params: 47,050\n",
            "Non-trainable params: 0\n",
            "_________________________________________________________________\n",
            "None\n"
          ],
          "name": "stdout"
        }
      ]
    },
    {
      "cell_type": "markdown",
      "metadata": {
        "id": "BKgIKDT9Yswf",
        "colab_type": "text"
      },
      "source": [
        "Compile the model."
      ]
    },
    {
      "cell_type": "code",
      "metadata": {
        "id": "MeKXll35Yswf",
        "colab_type": "code",
        "colab": {}
      },
      "source": [
        "model.compile(loss='categorical_crossentropy',\n",
        "              optimizer='adam',\n",
        "              metrics=['accuracy'])"
      ],
      "execution_count": 0,
      "outputs": []
    },
    {
      "cell_type": "markdown",
      "metadata": {
        "id": "beZ8zNtpYswh",
        "colab_type": "text"
      },
      "source": [
        "## Train the model"
      ]
    },
    {
      "cell_type": "code",
      "metadata": {
        "id": "gJD1uf0iYswh",
        "colab_type": "code",
        "colab": {
          "base_uri": "https://localhost:8080/",
          "height": 221
        },
        "outputId": "df807368-a8a9-458a-8a0d-d1c7f4663e5e"
      },
      "source": [
        "model.fit(X_train3d, y_train,\n",
        "          batch_size = 128, epochs = 5, verbose=1,\n",
        "          validation_data=(X_test3d, y_test))"
      ],
      "execution_count": 18,
      "outputs": [
        {
          "output_type": "stream",
          "text": [
            "Train on 60000 samples, validate on 10000 samples\n",
            "Epoch 1/5\n",
            "60000/60000 [==============================] - 8s 125us/step - loss: 0.3510 - acc: 0.8993 - val_loss: 0.1064 - val_acc: 0.9685\n",
            "Epoch 2/5\n",
            "60000/60000 [==============================] - 5s 76us/step - loss: 0.1151 - acc: 0.9653 - val_loss: 0.0675 - val_acc: 0.9805\n",
            "Epoch 3/5\n",
            "60000/60000 [==============================] - 5s 76us/step - loss: 0.0861 - acc: 0.9738 - val_loss: 0.0534 - val_acc: 0.9834\n",
            "Epoch 4/5\n",
            "60000/60000 [==============================] - 5s 76us/step - loss: 0.0718 - acc: 0.9787 - val_loss: 0.0448 - val_acc: 0.9858\n",
            "Epoch 5/5\n",
            "60000/60000 [==============================] - 5s 75us/step - loss: 0.0636 - acc: 0.9806 - val_loss: 0.0450 - val_acc: 0.9848\n"
          ],
          "name": "stdout"
        },
        {
          "output_type": "execute_result",
          "data": {
            "text/plain": [
              "<keras.callbacks.History at 0x7ff02ca1acc0>"
            ]
          },
          "metadata": {
            "tags": []
          },
          "execution_count": 18
        }
      ]
    },
    {
      "cell_type": "markdown",
      "metadata": {
        "id": "RfXbZrbSYswj",
        "colab_type": "text"
      },
      "source": [
        "## Evaluate the model"
      ]
    },
    {
      "cell_type": "code",
      "metadata": {
        "id": "qxMB2C2WYswk",
        "colab_type": "code",
        "colab": {}
      },
      "source": [
        "y_pred = model.predict(X_test3d)\n",
        "y_test_class = np.argmax(y_test, axis=1)\n",
        "y_pred_class = np.argmax(y_pred, axis=1)"
      ],
      "execution_count": 0,
      "outputs": []
    },
    {
      "cell_type": "code",
      "metadata": {
        "id": "uu-A_4YYYswm",
        "colab_type": "code",
        "colab": {
          "base_uri": "https://localhost:8080/",
          "height": 340
        },
        "outputId": "1910e875-7dd6-448a-f238-d4f37d39481b"
      },
      "source": [
        "print (\"Test accuracy: {:.4f}\".format(accuracy_score(y_test_class, y_pred_class)))\n",
        "print ()\n",
        "print(metrics.classification_report(y_test_class, y_pred_class, digits=4))"
      ],
      "execution_count": 20,
      "outputs": [
        {
          "output_type": "stream",
          "text": [
            "Test accuracy: 0.9848\n",
            "\n",
            "              precision    recall  f1-score   support\n",
            "\n",
            "           0     0.9779    0.9949    0.9863       980\n",
            "           1     0.9869    0.9947    0.9908      1135\n",
            "           2     0.9882    0.9767    0.9825      1032\n",
            "           3     0.9683    0.9970    0.9824      1010\n",
            "           4     0.9928    0.9827    0.9877       982\n",
            "           5     0.9887    0.9809    0.9848       892\n",
            "           6     0.9936    0.9791    0.9863       958\n",
            "           7     0.9892    0.9815    0.9854      1028\n",
            "           8     0.9795    0.9825    0.9810       974\n",
            "           9     0.9840    0.9762    0.9801      1009\n",
            "\n",
            "    accuracy                         0.9848     10000\n",
            "   macro avg     0.9849    0.9846    0.9847     10000\n",
            "weighted avg     0.9849    0.9848    0.9848     10000\n",
            "\n"
          ],
          "name": "stdout"
        }
      ]
    },
    {
      "cell_type": "code",
      "metadata": {
        "id": "nQqod1gxYswn",
        "colab_type": "code",
        "colab": {
          "base_uri": "https://localhost:8080/",
          "height": 187
        },
        "outputId": "8b251a03-c350-432f-dda6-0745e1101c45"
      },
      "source": [
        "print(confusion_matrix(y_test_class, y_pred_class))"
      ],
      "execution_count": 21,
      "outputs": [
        {
          "output_type": "stream",
          "text": [
            "[[ 975    0    0    0    0    1    1    1    2    0]\n",
            " [   0 1129    1    2    1    0    2    0    0    0]\n",
            " [   4    3 1008    8    1    0    1    3    4    0]\n",
            " [   0    0    0 1007    0    0    0    2    1    0]\n",
            " [   1    1    1    0  965    0    0    0    3   11]\n",
            " [   1    0    0   13    0  875    2    0    1    0]\n",
            " [   6    3    0    1    2    4  938    0    4    0]\n",
            " [   1    3    9    3    0    1    0 1009    1    1]\n",
            " [   6    0    1    1    1    1    0    3  957    4]\n",
            " [   3    5    0    5    2    3    0    2    4  985]]\n"
          ],
          "name": "stdout"
        }
      ]
    },
    {
      "cell_type": "code",
      "metadata": {
        "id": "-OTWOHLIYswp",
        "colab_type": "code",
        "colab": {
          "base_uri": "https://localhost:8080/",
          "height": 340
        },
        "outputId": "446cc9bb-f575-4457-9a1e-3751f5f0ee4d"
      },
      "source": [
        "y_pred = model.predict(X_train3d)\n",
        "y_pred_class = np.argmax(y_pred, axis=1)\n",
        "y_train_class = np.argmax(y_train, axis=1)\n",
        "\n",
        "print (\"Train accuracy: {:.4f}\".format(accuracy_score(y_train_class, y_pred_class)))\n",
        "print ()\n",
        "print(metrics.classification_report(y_train_class, y_pred_class, digits=4))"
      ],
      "execution_count": 22,
      "outputs": [
        {
          "output_type": "stream",
          "text": [
            "Train accuracy: 0.9875\n",
            "\n",
            "              precision    recall  f1-score   support\n",
            "\n",
            "           0     0.9924    0.9956    0.9940      5923\n",
            "           1     0.9908    0.9942    0.9925      6742\n",
            "           2     0.9908    0.9783    0.9845      5958\n",
            "           3     0.9783    0.9904    0.9843      6131\n",
            "           4     0.9945    0.9839    0.9892      5842\n",
            "           5     0.9911    0.9838    0.9874      5421\n",
            "           6     0.9929    0.9919    0.9924      5918\n",
            "           7     0.9850    0.9875    0.9863      6265\n",
            "           8     0.9772    0.9870    0.9821      5851\n",
            "           9     0.9822    0.9805    0.9813      5949\n",
            "\n",
            "    accuracy                         0.9875     60000\n",
            "   macro avg     0.9875    0.9873    0.9874     60000\n",
            "weighted avg     0.9875    0.9875    0.9875     60000\n",
            "\n"
          ],
          "name": "stdout"
        }
      ]
    },
    {
      "cell_type": "markdown",
      "metadata": {
        "id": "LnvA9BySYswq",
        "colab_type": "text"
      },
      "source": [
        "## Let's look at some incorrectly classified examples"
      ]
    },
    {
      "cell_type": "code",
      "metadata": {
        "id": "X9-bjAf5Yswr",
        "colab_type": "code",
        "colab": {
          "base_uri": "https://localhost:8080/",
          "height": 204
        },
        "outputId": "a0c452d0-3ddd-47c8-c504-f83f952fc7ec"
      },
      "source": [
        "y_pred = model.predict(X_test3d)\n",
        "y_test_class = np.argmax(y_test, axis=1)\n",
        "y_pred_class = np.argmax(y_pred, axis=1)\n",
        "\n",
        "incorrect_indices = np.nonzero(y_pred_class != y_test_class)[0]\n",
        "print(incorrect_indices)"
      ],
      "execution_count": 23,
      "outputs": [
        {
          "output_type": "stream",
          "text": [
            "[ 211  259  320  321  340  445  571  659  674  684  717  726  740  844\n",
            "  947 1014 1039 1181 1182 1226 1232 1242 1247 1260 1299 1319 1326 1393\n",
            " 1414 1500 1530 1553 1609 1621 1678 1709 1717 1754 1878 1901 2035 2098\n",
            " 2109 2118 2129 2130 2135 2148 2182 2189 2266 2272 2293 2387 2406 2447\n",
            " 2454 2462 2488 2597 2654 2780 2810 2896 2927 2939 2970 2995 3005 3030\n",
            " 3060 3073 3288 3289 3330 3384 3422 3474 3503 3520 3534 3559 3597 3599\n",
            " 3726 3751 3767 3796 3806 3808 3811 3853 3906 4007 4017 4075 4078 4163\n",
            " 4176 4205 4224 4238 4248 4265 4360 4497 4500 4536 4547 4571 4575 4639\n",
            " 4761 4807 4814 4860 4956 4997 5331 5634 5887 5888 5937 5955 5981 5982\n",
            " 6166 6505 6555 6576 6597 6625 6651 6783 7432 7434 8059 8094 8520 9009\n",
            " 9015 9024 9634 9679 9698 9716 9729 9770 9792 9811 9839 9982]\n"
          ],
          "name": "stdout"
        }
      ]
    },
    {
      "cell_type": "code",
      "metadata": {
        "id": "JgM3b_j3Yswt",
        "colab_type": "code",
        "colab": {
          "base_uri": "https://localhost:8080/",
          "height": 281
        },
        "outputId": "ac3c3782-a094-4906-f5be-3d58114cd554"
      },
      "source": [
        "%matplotlib inline\n",
        "import matplotlib.pyplot as plt\n",
        "i = incorrect_indices[3]\n",
        "\n",
        "plt.imshow(X_test[i], cmap='gray')\n",
        "plt.title(\"Predicted: {}, Class: {}\".format(y_pred_class[i], y_test_class[i]))\n",
        "plt.show()"
      ],
      "execution_count": 24,
      "outputs": [
        {
          "output_type": "display_data",
          "data": {
            "image/png": "[encoded data removed]",
            "text/plain": [
              "<Figure size 432x288 with 1 Axes>"
            ]
          },
          "metadata": {
            "tags": []
          }
        }
      ]
    },
    {
      "cell_type": "code",
      "metadata": {
        "id": "kVR4nqViYsww",
        "colab_type": "code",
        "colab": {}
      },
      "source": [
        ""
      ],
      "execution_count": 0,
      "outputs": []
    },
    {
      "cell_type": "code",
      "metadata": {
        "id": "NHryRr9NYswx",
        "colab_type": "code",
        "colab": {}
      },
      "source": [
        ""
      ],
      "execution_count": 0,
      "outputs": []
    }
  ]
}