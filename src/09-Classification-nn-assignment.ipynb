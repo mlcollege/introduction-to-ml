{
  "nbformat": 4,
  "nbformat_minor": 0,
  "metadata": {
    "kernelspec": {
      "display_name": "Python 3",
      "language": "python",
      "name": "python3"
    },
    "language_info": {
      "codemirror_mode": {
        "name": "ipython",
        "version": 3
      },
      "file_extension": ".py",
      "mimetype": "text/x-python",
      "name": "python",
      "nbconvert_exporter": "python",
      "pygments_lexer": "ipython3",
      "version": "3.7.3"
    },
    "colab": {
      "name": "09-Classification-nn-assignment.ipynb",
      "provenance": []
    }
  },
  "cells": [
    {
      "cell_type": "markdown",
      "metadata": {
        "id": "XsEYdKm7HqoB"
      },
      "source": [
        "# Neural Network Classification task - Room occupancy\n",
        "\n",
        "The goal of this taks is to predict a room occupancy based on Temperature, Humidity, Light and CO2 measurements using neural networks in Keras. Ground-truth occupancy was obtained from time stamped pictures that were taken every minute.\n",
        "\n",
        "## Data source\n",
        "[http://archive.ics.uci.edu/ml/datasets/Occupancy+Detection+](http://archive.ics.uci.edu/ml/datasets/Occupancy+Detection+)\n",
        "\n",
        "## Feature description\n",
        "* **Date** - time stamp in the followign format: year-month-day hour:minute:second\n",
        "* **Temperature** - temperature in degrees of Celsius\n",
        "* **Relative Humidity** - Relative humidity in %\n",
        "* **Light** - light intensity in Lux\n",
        "* **CO2** - amount of CO2 in the air, measured in ppm\n",
        "* **Humidity Ratio** - Humidity ratio derived from temperature and relative humidity, in kgwater-vapor/kg-air\n",
        "* **Occupancy** - a target binary value, 0 for not occupied, 1 for occupied status"
      ]
    },
    {
      "cell_type": "code",
      "metadata": {
        "id": "j52uhnKCHqoD"
      },
      "source": [
        "import pandas as pd\n",
        "data = pd.read_csv('https://raw.githubusercontent.com/mlcollege/introduction-to-ml/master/data/occupancy.csv', sep=',')\n",
        "data.head()"
      ],
      "execution_count": null,
      "outputs": []
    },
    {
      "cell_type": "markdown",
      "metadata": {
        "id": "agkb7E4wHqoH"
      },
      "source": [
        "## Neural Network Classifier\n",
        "Implement a neural network classifier based on all numerical features."
      ]
    },
    {
      "cell_type": "markdown",
      "metadata": {
        "id": "WcYQuEeCHqoI"
      },
      "source": [
        "### Data preparation"
      ]
    },
    {
      "cell_type": "code",
      "metadata": {
        "id": "gdpdkQnLHqoJ"
      },
      "source": [
        "from sklearn.model_selection import train_test_split\n",
        "\n",
        "X_all = data[['Temperature', 'Humidity', 'Light', 'CO2', 'HumidityRatio']]\n",
        "y_all = data['Occupancy']\n",
        "\n",
        "X_train, X_test, y_train, y_test = train_test_split(\n",
        "    X_all,\n",
        "    y_all,\n",
        "    random_state=1,\n",
        "    test_size=0.1)\n",
        "\n",
        "print('Train size: {}'.format(len(X_train)))\n",
        "print('Test size: {}'.format(len(X_test)))"
      ],
      "execution_count": null,
      "outputs": []
    },
    {
      "cell_type": "markdown",
      "metadata": {
        "id": "yRoC3lA8HqoL"
      },
      "source": [
        "Standardize the features"
      ]
    },
    {
      "cell_type": "code",
      "metadata": {
        "id": "pti4XBWhHqoM"
      },
      "source": [
        "from sklearn.preprocessing import StandardScaler\n",
        "\n",
        "scaler = StandardScaler()\n",
        "scaler.fit(X_train)\n",
        "X_train = scaler.transform(X_train)\n",
        "X_test = scaler.transform(X_test)"
      ],
      "execution_count": null,
      "outputs": []
    },
    {
      "cell_type": "markdown",
      "metadata": {
        "id": "J9BixmUZHqoO"
      },
      "source": [
        "Since the target values are binary, we don't need to encode them in one-hot representation."
      ]
    },
    {
      "cell_type": "code",
      "metadata": {
        "id": "FrKYbj4YHqoP"
      },
      "source": [
        "print(y_test[:5])"
      ],
      "execution_count": null,
      "outputs": []
    },
    {
      "cell_type": "markdown",
      "metadata": {
        "id": "7eKiqOo0HqoR"
      },
      "source": [
        "### Training a classifier\n",
        "\n",
        "Design and train a classification model. Use the [binary crossentropy](https://keras.io/losses/) loss function and Sigmoid output function. Experiment with various architectures and [optimizers](https://keras.io/optimizers/)."
      ]
    },
    {
      "cell_type": "code",
      "metadata": {
        "id": "2h8CG-97HqoR"
      },
      "source": [
        "from tensorflow.keras.models import Sequential\n",
        "from tensorflow.keras.layers import Dense, Activation, Dropout\n",
        "\n",
        "# TODO"
      ],
      "execution_count": null,
      "outputs": []
    },
    {
      "cell_type": "markdown",
      "metadata": {
        "id": "corXhrYqHqoT"
      },
      "source": [
        "Compile the model"
      ]
    },
    {
      "cell_type": "code",
      "metadata": {
        "id": "qT7YG7rWHqoT"
      },
      "source": [
        "# TODO"
      ],
      "execution_count": null,
      "outputs": []
    },
    {
      "cell_type": "markdown",
      "metadata": {
        "id": "ejVHi2cyHqoV"
      },
      "source": [
        "Train the model"
      ]
    },
    {
      "cell_type": "code",
      "metadata": {
        "id": "TiVbPlUXHqoW"
      },
      "source": [
        "# TODO"
      ],
      "execution_count": null,
      "outputs": []
    },
    {
      "cell_type": "markdown",
      "metadata": {
        "id": "6r4lDbT8HqoX"
      },
      "source": [
        "### Evaluate the model"
      ]
    },
    {
      "cell_type": "markdown",
      "metadata": {
        "id": "zhS8_c70HqoY"
      },
      "source": [
        "Predict target values and convert probabilities to binary values."
      ]
    },
    {
      "cell_type": "code",
      "metadata": {
        "id": "gbgI1CR1HqoZ"
      },
      "source": [
        "# TODO"
      ],
      "execution_count": null,
      "outputs": []
    },
    {
      "cell_type": "markdown",
      "metadata": {
        "id": "ZEIse9ZaHqoa"
      },
      "source": [
        "Print evaluation metrics"
      ]
    },
    {
      "cell_type": "code",
      "metadata": {
        "id": "ljIUXp0wHqob"
      },
      "source": [
        "# TODO"
      ],
      "execution_count": null,
      "outputs": []
    }
  ]
}