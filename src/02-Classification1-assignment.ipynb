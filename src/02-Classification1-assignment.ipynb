{
  "nbformat": 4,
  "nbformat_minor": 0,
  "metadata": {
    "kernelspec": {
      "display_name": "Python 3",
      "language": "python",
      "name": "python3"
    },
    "language_info": {
      "codemirror_mode": {
        "name": "ipython",
        "version": 3
      },
      "file_extension": ".py",
      "mimetype": "text/x-python",
      "name": "python",
      "nbconvert_exporter": "python",
      "pygments_lexer": "ipython3",
      "version": "3.5.2"
    },
    "colab": {
      "name": "02-Classification1-assignment.ipynb",
      "provenance": []
    }
  },
  "cells": [
    {
      "cell_type": "markdown",
      "metadata": {
        "id": "5VsV6m7X3SJv",
        "colab_type": "text"
      },
      "source": [
        "# Classification task - Room occupancy 1\n",
        "\n",
        "The goal of this taks is to predict a room occupancy based on Temperature, Humidity, Light and CO2 measurements. Ground-truth occupancy was obtained from time stamped pictures that were taken every minute.\n",
        "\n",
        "## Data source\n",
        "[http://archive.ics.uci.edu/ml/datasets/Occupancy+Detection+](http://archive.ics.uci.edu/ml/datasets/Occupancy+Detection+)\n",
        "\n",
        "## Feature description\n",
        "* **Date** - time stamp in the followign format: year-month-day hour:minute:second \n",
        "* **Temperature** - temperature in degrees of Celsius \n",
        "* **Relative Humidity** - Relative humidity in % \n",
        "* **Light** - light intensity in Lux \n",
        "* **CO2** - amount of CO2 in the air, measured in ppm \n",
        "* **Humidity Ratio** - Humidity ratio derived from temperature and relative humidity, in kgwater-vapor/kg-air \n",
        "* **Occupancy** - a target binary value, 0 for not occupied, 1 for occupied status"
      ]
    },
    {
      "cell_type": "code",
      "metadata": {
        "id": "HTrvTKIS3SJ0",
        "colab_type": "code",
        "colab": {}
      },
      "source": [
        "import pandas as pd\n",
        "data = pd.read_csv('https://raw.githubusercontent.com/mlcollege/introduction-to-ml/master/data/occupancy.csv', sep=',')\n",
        "data.head()"
      ],
      "execution_count": 0,
      "outputs": []
    },
    {
      "cell_type": "markdown",
      "metadata": {
        "id": "JNMiiKgc3SKG",
        "colab_type": "text"
      },
      "source": [
        "## Simple classifier\n",
        "Implement a simple classifier based on all numerical features."
      ]
    },
    {
      "cell_type": "markdown",
      "metadata": {
        "id": "ABVTMXmg3SKH",
        "colab_type": "text"
      },
      "source": [
        "### Data preparation"
      ]
    },
    {
      "cell_type": "code",
      "metadata": {
        "id": "mWtxu4ZK3SKJ",
        "colab_type": "code",
        "colab": {},
        "outputId": "08237bdf-9dfb-41b9-fee0-460270413a95"
      },
      "source": [
        "from sklearn.model_selection import train_test_split\n",
        "\n",
        "X_all = data[['Temperature', 'Humidity', 'Light', 'CO2', 'HumidityRatio']]\n",
        "y_all = data['Occupancy']\n",
        "\n",
        "X_train, X_test, y_train, y_test = train_test_split(\n",
        "    X_all, \n",
        "    y_all,\n",
        "    random_state=1,\n",
        "    test_size=0.1)\n",
        "\n",
        "print('Train size: {}'.format(len(X_train)))\n",
        "print('Test size: {}'.format(len(X_test)))"
      ],
      "execution_count": 0,
      "outputs": [
        {
          "output_type": "stream",
          "text": [
            "Train size: 18504\n",
            "Test size: 2056\n"
          ],
          "name": "stdout"
        }
      ]
    },
    {
      "cell_type": "markdown",
      "metadata": {
        "id": "y_irQvaF3SKL",
        "colab_type": "text"
      },
      "source": [
        "### Training a classifier\n",
        "\n",
        "Train a classifier using the following models:\n",
        "* [Gausssian Naive Bayes](http://scikit-learn.org/stable/modules/generated/sklearn.naive_bayes.GaussianNB.html)\n",
        "* [Logistic regression](http://scikit-learn.org/0.15/modules/generated/sklearn.linear_model.LogisticRegression.html)\n",
        "* [Support Vector Machines](http://scikit-learn.org/stable/modules/generated/sklearn.svm.SVC.html#sklearn.svm.SVC) (experiment with different kernels)\n",
        "* [Gradient Boosted Trees](http://scikit-learn.org/stable/modules/generated/sklearn.ensemble.GradientBoostingClassifier.html) (Experiment with different depths and number of trees)"
      ]
    },
    {
      "cell_type": "code",
      "metadata": {
        "id": "cYzKRoN43SKa",
        "colab_type": "code",
        "colab": {}
      },
      "source": [
        "from sklearn.naive_bayes import GaussianNB\n",
        "from sklearn.linear_model import LogisticRegression\n",
        "from sklearn import svm\n",
        "from sklearn.ensemble import GradientBoostingClassifier\n",
        "\n",
        "#TODO"
      ],
      "execution_count": 0,
      "outputs": []
    },
    {
      "cell_type": "markdown",
      "metadata": {
        "id": "mgjy4UD43SKd",
        "colab_type": "text"
      },
      "source": [
        "### Evaluate the models\n",
        "\n",
        "Implement the evaluation methods you have learned in the Scikit-learn tutorial. Decide which model performs best on the given problem."
      ]
    },
    {
      "cell_type": "code",
      "metadata": {
        "id": "5V3Y-CNy3SKd",
        "colab_type": "code",
        "colab": {}
      },
      "source": [
        "#TODO"
      ],
      "execution_count": 0,
      "outputs": []
    }
  ]
}